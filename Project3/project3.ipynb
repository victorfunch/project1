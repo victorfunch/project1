{
 "cells": [
  {
   "cell_type": "markdown",
   "metadata": {},
   "source": [
    "# Project 3\n",
    "\n",
    "### How strong is the “home bias” in the demand for cars, and how does that affect the own-price elasticity of demand?"
   ]
  },
  {
   "cell_type": "code",
   "execution_count": 1,
   "metadata": {},
   "outputs": [],
   "source": [
    "import numpy as np \n",
    "import pandas as pd \n",
    "import matplotlib.pyplot as plt \n",
    "import seaborn as sns \n",
    "sns.set_theme()\n",
    "import clogit_project3\n",
    "import estimation as est\n",
    "from numpy import linalg as la\n",
    "from scipy import optimize\n",
    "import LinearModels as lm\n",
    "\n",
    "import statsmodels.formula.api as smf"
   ]
  },
  {
   "cell_type": "markdown",
   "metadata": {},
   "source": [
    "# Read in data\n",
    "\n",
    "The dataset, `cars.csv`, contains cleaned and processed data. If you want to make changes, the notebook, `materialize.ipynb`, creates the data from the raw source datsets. "
   ]
  },
  {
   "cell_type": "code",
   "execution_count": 2,
   "metadata": {},
   "outputs": [],
   "source": [
    "# read data\n",
    "cars = pd.read_csv('cars.csv')\n",
    "lbl_vars = pd.read_csv('labels_variables.csv')\n",
    "lbl_vals = pd.read_csv('labels_values.csv')\n",
    "\n",
    "# convert from dataframe to dict\n",
    "lbl_vals = {c: lbl_vals[c].dropna().to_dict() for c in lbl_vals.columns}\n",
    "lbl_vars.set_index('variable', inplace=True)"
   ]
  },
  {
   "cell_type": "markdown",
   "metadata": {},
   "source": [
    "# Set up for analysis"
   ]
  },
  {
   "cell_type": "code",
   "execution_count": 3,
   "metadata": {},
   "outputs": [],
   "source": [
    "price_var = 'princ'\n",
    "cars['logp'] = np.log(cars[price_var])\n",
    "# new variable: price elasticity heterogeneous for home-region \n",
    "cars['logp_x_home'] = cars[price_var] * cars['home']\n",
    "cars['size'] = cars['he'] * cars['le'] * cars['wi']"
   ]
  },
  {
   "cell_type": "code",
   "execution_count": 4,
   "metadata": {},
   "outputs": [
    {
     "name": "stdout",
     "output_type": "stream",
     "text": [
      "K = 6 variables selected.\n"
     ]
    }
   ],
   "source": [
    "brand_dummies = pd.get_dummies(cars['brand']) # creates a matrix of dummies for each value of dummyvar\n",
    "brand_dummies_list = list(brand_dummies.columns[1:].values) # omit a reference category, here it is the first (hence columns[1:])\n",
    "\n",
    "loc_dummies = pd.get_dummies(cars['loc']) \n",
    "loc_dummies_list = list(loc_dummies.columns[1:].values)\n",
    "\n",
    "# add dummies to the dataframe \n",
    "#assert dummies.columns[0] not in cars.columns, f'It looks like you have already added this dummy to the dataframe. Avoid duplicates! '\n",
    "cars = pd.concat([cars,brand_dummies,loc_dummies], axis=1)\n",
    "\n",
    "# select x_vars\n",
    "standardize = [\n",
    "    'size'\n",
    "    , 'li'\n",
    "    , 'hp'\n",
    "]\n",
    "\n",
    "dont_standardize = [\n",
    "    'logp'\n",
    "    , 'logp_x_home'\n",
    "    , 'home'\n",
    "]\n",
    "\n",
    "x_vars = standardize + dont_standardize #+ brand_dummies_list #+ loc_dummies_list\n",
    "\n",
    "print(f'K = {len(x_vars)} variables selected.')\n",
    "\n",
    "K = len(x_vars)\n",
    "N = cars.ma.nunique() * cars.ye.nunique()\n",
    "J = 40\n",
    "x = cars[x_vars].values.reshape((N,J,K))\n",
    "y = (cars['s'].values.reshape((N,J)))\n",
    "\n",
    "# standardize x\n",
    "stop = len(standardize)\n",
    "start = 0\n",
    "x[:, :, start:stop] = ((x[:, :, start:stop] - x[:, :, start:stop].mean(0).mean(0))/(x[:, :, start:stop].std(0).std(0)))\n",
    "# \"bange for at nogen variable driver det for meget\"\n",
    "# \"singular matrix = collinearity\""
   ]
  },
  {
   "cell_type": "code",
   "execution_count": 5,
   "metadata": {},
   "outputs": [
    {
     "name": "stdout",
     "output_type": "stream",
     "text": [
      "____________________________________________\n",
      "              \n",
      "('Nelder-Mead', 'Outer Product')\n",
      "\n",
      "Optimization terminated successfully.\n",
      "         Current function value: 3.499303\n",
      "         Iterations: 1007\n",
      "         Function evaluations: 1568\n",
      "____________________________________________\n",
      "              \n",
      "('BFGS', 'Hessian')\n",
      "\n",
      "Optimization terminated successfully.\n",
      "         Current function value: 3.499303\n",
      "         Iterations: 26\n",
      "         Function evaluations: 203\n",
      "         Gradient evaluations: 29\n",
      "____________________________________________\n",
      "              \n",
      "('BFGS', 'Sandwich')\n",
      "\n",
      "Optimization terminated successfully.\n",
      "         Current function value: 3.499303\n",
      "         Iterations: 26\n",
      "         Function evaluations: 203\n",
      "         Gradient evaluations: 29\n"
     ]
    }
   ],
   "source": [
    "pairs = [\n",
    "    ('Nelder-Mead', 'Outer Product')\n",
    "    , ('BFGS', 'Hessian')\n",
    "    , ('BFGS', 'Sandwich')\n",
    "]\n",
    "\n",
    "list_of_dfs = []\n",
    "\n",
    "for pair in pairs:\n",
    "    print('____________________________________________')\n",
    "    print(f'              \\n{pair}\\n')\n",
    "    method = pair[0]\n",
    "    cov_type = pair[1]\n",
    "    \n",
    "    res = est.estimate(clogit_project3.q\n",
    "                       , clogit_project3.starting_values(y, x)\n",
    "                       , y\n",
    "                       , x\n",
    "                       , method=method\n",
    "                       , cov_type=cov_type\n",
    "                       , options={\n",
    "                           'disp':True\n",
    "                           ,'maxiter':30000\n",
    "                       }\n",
    "                      )\n",
    "    \n",
    "    temp = pd.DataFrame({v:res[v] for v in ['theta', 'se', 't']})\n",
    "    temp['method'] = [method for i in range(temp.shape[0])]\n",
    "    temp['cov_type'] = [cov_type for i in range(temp.shape[0])]\n",
    "    temp['x_var'] = x_vars\n",
    "    \n",
    "    list_of_dfs.append(temp)\n",
    "    \n",
    "res_df = pd.concat(list_of_dfs, ignore_index=True)"
   ]
  },
  {
   "cell_type": "code",
   "execution_count": 6,
   "metadata": {},
   "outputs": [],
   "source": [
    "#df_neld = res_df[(res_df.method == 'Nelder-Mead')].copy()\n",
    "#df_neld"
   ]
  },
  {
   "cell_type": "code",
   "execution_count": 7,
   "metadata": {},
   "outputs": [],
   "source": [
    "#df_hess = res_df[(res_df.method == 'BFGS') & (res_df.cov_type == 'Hessian')].copy()\n",
    "#df_hess"
   ]
  },
  {
   "cell_type": "code",
   "execution_count": 8,
   "metadata": {},
   "outputs": [],
   "source": [
    "#df_sand = res_df[(res_df.method == 'BFGS') & (res_df.cov_type == 'Sandwich')].copy()\n",
    "#df_sand"
   ]
  },
  {
   "cell_type": "code",
   "execution_count": 9,
   "metadata": {},
   "outputs": [],
   "source": [
    "#df_hess['diff_in_se'] = df_hess.se - df_sand.se"
   ]
  },
  {
   "cell_type": "code",
   "execution_count": 10,
   "metadata": {},
   "outputs": [],
   "source": [
    "desired_pair = ('BFGS', 'Sandwich')\n",
    "#desired_pair = ('Nelder-Mead', 'Outer Product')\n",
    "thetahat = res_df[(res_df.method == desired_pair[0]) & (res_df.cov_type == desired_pair[1])].theta.to_numpy().flatten()\n",
    "\n",
    "choice1 = clogit_project3.choice_prob(thetahat, x)\n",
    "no_home_x = x.copy()\n",
    "no_home_x[:, :, 5] = np.zeros((N,J))"
   ]
  },
  {
   "cell_type": "code",
   "execution_count": 11,
   "metadata": {},
   "outputs": [],
   "source": [
    "choice2 = clogit_project3.choice_prob(thetahat, no_home_x)"
   ]
  },
  {
   "cell_type": "code",
   "execution_count": 12,
   "metadata": {},
   "outputs": [],
   "source": [
    "with_home = np.zeros((5,40))\n",
    "without_home = np.zeros((5,40))\n",
    "\n",
    "for idx, market in enumerate(np.split(choice1, 5)):\n",
    "    with_home[idx, :] = market.mean(0, keepdims=True)\n",
    "    \n",
    "for idx, market in enumerate(np.split(choice2, 5)):\n",
    "    without_home[idx, :] = market.mean(0, keepdims=True)  "
   ]
  },
  {
   "cell_type": "markdown",
   "metadata": {},
   "source": [
    "### Partial effect\n",
    "$$\n",
    "    \\frac{\\partial}{\\partial x_kl} Pr(j) = Pr(j) \\left[\\boldsymbol{1}_{k=j} \\beta_{l} -  Pr(l) \\beta_{l} \\right]\n",
    "$$"
   ]
  },
  {
   "cell_type": "code",
   "execution_count": null,
   "metadata": {},
   "outputs": [],
   "source": []
  },
  {
   "cell_type": "markdown",
   "metadata": {},
   "source": [
    "### Price-elasticity of demand\n",
    "$$\n",
    "\\boldsymbol{\\epsilon}_{jj}(\\boldsymbol{X}_{i}) = \\frac{\\partial s_j(\\boldsymbol{X}_{i}, \\boldsymbol{\\beta})}{\\partial p_{ij}} \\frac{p_{ij}}{s_j(\\boldsymbol{X}_{i}, \\boldsymbol{\\beta})}\n",
    "$$"
   ]
  },
  {
   "cell_type": "code",
   "execution_count": 13,
   "metadata": {},
   "outputs": [
    {
     "data": {
      "text/plain": [
       "1.0"
      ]
     },
     "execution_count": 13,
     "metadata": {},
     "output_type": "execute_result"
    }
   ],
   "source": [
    "# Extract parameter estimates\n",
    "desired_pair = ('BFGS', 'Sandwich')\n",
    "#desired_pair = ('Nelder-Mead', 'Outer Product')\n",
    "thetahat = res_df[(res_df.method == desired_pair[0]) & (res_df.cov_type == desired_pair[1])].theta.to_numpy().flatten()\n",
    "\n",
    "# Original choice probabilites\n",
    "ccp1 = clogit_project3.choice_prob(thetahat, x)\n",
    "ccp1[0].sum()"
   ]
  },
  {
   "cell_type": "code",
   "execution_count": 14,
   "metadata": {},
   "outputs": [],
   "source": [
    "E_own   = np.zeros((N, J))\n",
    "E_cross = np.zeros((N, J))\n",
    "dpdx    = np.zeros((N, J))\n",
    "k_price = 3\n",
    "\n",
    "for j in range(J):\n",
    "    # A. copy \n",
    "    x2 = x.copy()\n",
    "    \n",
    "    # B. increase price just for car j \n",
    "    rel_change_x = 0.001\n",
    "    x2[:, j, k_price] = x2[:, j, k_price] * (1+rel_change_x)\n",
    "\n",
    "    # C. evaluate CCPs\n",
    "    ccp2 = clogit_project3.choice_prob(thetahat, x2)\n",
    "    \n",
    "    # D. percentage change in CCPs \n",
    "    rel_change_y = ccp2 / ccp1 - 1\n",
    "    \n",
    "    # E. elasticities \n",
    "    elasticity = rel_change_y / rel_change_x\n",
    "    \n",
    "    E_own[:, j] = elasticity[:, j] # Fill in \n",
    "\n",
    "    k_not_j = [k for k in range(J) if k != j] # indices for all other cars than j \n",
    "    E_cross[:, j] = elasticity[:, k_not_j].mean(axis=1) # Fill in: Avg. among the cars k_not_j"
   ]
  },
  {
   "cell_type": "code",
   "execution_count": 15,
   "metadata": {},
   "outputs": [
    {
     "name": "stdout",
     "output_type": "stream",
     "text": [
      "Own-price elasticity:  -0.107316\n",
      "Cross-price elasticity: 0.0032166\n"
     ]
    }
   ],
   "source": [
    "print(f'Own-price elasticity:  {np.mean(E_own).round(7)}')\n",
    "print(f'Cross-price elasticity: {np.mean(E_cross).round(7)}')"
   ]
  },
  {
   "cell_type": "code",
   "execution_count": 16,
   "metadata": {},
   "outputs": [
    {
     "name": "stdout",
     "output_type": "stream",
     "text": [
      "home\n",
      "Elasticity, home:  -0.0861\n",
      "Elasticity, other: -0.1171\n"
     ]
    }
   ],
   "source": [
    "home = 5\n",
    "print(x_vars[home]) # check that we found the right one \n",
    "assert x_vars[home] == 'home'\n",
    "\n",
    "# Create two indexed, from where idx1 is for electric cars and idx0 is for non-electric cars.\n",
    "idx1 = x[:, :, home]==1\n",
    "idx0 = x[:, :, home]==0 \n",
    "print(f'Elasticity, home:  {np.mean(E_own[idx1]).round(4)}')\n",
    "print(f'Elasticity, other: {np.mean(E_own[idx0]).round(4)}')"
   ]
  },
  {
   "cell_type": "markdown",
   "metadata": {},
   "source": [
    "### Compensating Variation\n",
    "\n",
    "We can compare welfare under $v_{ij}$ and $\\tilde{v}_{ij}$:\n",
    "\n",
    "$$\n",
    "CV = \\frac{1}{\\beta_1} \\log \\sum_{j=1}^{J} \\exp{v_{ij}} - \\frac{1}{\\beta_1} \\log \\sum_{j=1}^{J} \\exp{\\tilde{v}_{ij}}\n",
    "$$"
   ]
  },
  {
   "cell_type": "code",
   "execution_count": null,
   "metadata": {},
   "outputs": [],
   "source": []
  }
 ],
 "metadata": {
  "interpreter": {
   "hash": "7d7da66137592ac323fdae235f73f52cf7e1b708075c75a7c5667c329f8e3fd0"
  },
  "kernelspec": {
   "display_name": "Python 3",
   "language": "python",
   "name": "python3"
  },
  "language_info": {
   "codemirror_mode": {
    "name": "ipython",
    "version": 3
   },
   "file_extension": ".py",
   "mimetype": "text/x-python",
   "name": "python",
   "nbconvert_exporter": "python",
   "pygments_lexer": "ipython3",
   "version": "3.8.5"
  }
 },
 "nbformat": 4,
 "nbformat_minor": 4
}

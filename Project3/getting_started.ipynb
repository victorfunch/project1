{
 "cells": [
  {
   "cell_type": "markdown",
   "metadata": {},
   "source": [
    "# Project 3: Getting Started \n",
    "\n",
    "This notebook is intended to help you get off to a flying start with the cars dataset. You don't have to use this notebook and you can discard any parts you do not like, they are purely intended as a help to get started. "
   ]
  },
  {
   "cell_type": "code",
   "execution_count": 1,
   "metadata": {},
   "outputs": [],
   "source": [
    "import numpy as np \n",
    "import pandas as pd \n",
    "import matplotlib.pyplot as plt \n",
    "import seaborn as sns \n",
    "sns.set_theme()\n",
    "import clogit_project3\n",
    "import estimation as est\n",
    "from numpy import linalg as la\n",
    "from scipy import optimize\n",
    "import LinearModels as lm\n",
    "\n",
    "import statsmodels.formula.api as smf"
   ]
  },
  {
   "cell_type": "markdown",
   "metadata": {},
   "source": [
    "# Read in data\n",
    "\n",
    "The dataset, `cars.csv`, contains cleaned and processed data. If you want to make changes, the notebook, `materialize.ipynb`, creates the data from the raw source datsets. "
   ]
  },
  {
   "cell_type": "code",
   "execution_count": 2,
   "metadata": {},
   "outputs": [],
   "source": [
    "cars = pd.read_csv('cars.csv')\n",
    "lbl_vars = pd.read_csv('labels_variables.csv')\n",
    "lbl_vals = pd.read_csv('labels_values.csv')\n",
    "\n",
    "# convert from dataframe to dict\n",
    "lbl_vals = {c: lbl_vals[c].dropna().to_dict() for c in lbl_vals.columns}\n",
    "lbl_vars.set_index('variable', inplace=True)"
   ]
  },
  {
   "cell_type": "markdown",
   "metadata": {},
   "source": [
    "# Set up for analysis"
   ]
  },
  {
   "cell_type": "code",
   "execution_count": 3,
   "metadata": {},
   "outputs": [],
   "source": [
    "price_var = 'princ'\n",
    "cars['logp'] = np.log(cars[price_var])\n",
    "# new variable: price elasticity heterogeneous for home-region \n",
    "cars['logp_x_home'] = cars[price_var] * cars['home']"
   ]
  },
  {
   "cell_type": "code",
   "execution_count": 4,
   "metadata": {},
   "outputs": [
    {
     "name": "stdout",
     "output_type": "stream",
     "text": [
      "K = 6 variables selected.\n"
     ]
    }
   ],
   "source": [
    "categorical_var = 'brand' # name of categorical variable\n",
    "dummies = pd.get_dummies(cars[categorical_var]) # creates a matrix of dummies for each value of dummyvar\n",
    "x_vars_dummies = list(dummies.columns[1:].values) # omit a reference category, here it is the first (hence columns[1:])\n",
    "\n",
    "# add dummies to the dataframe \n",
    "assert dummies.columns[0] not in cars.columns, f'It looks like you have already added this dummy to the dataframe. Avoid duplicates! '\n",
    "cars = pd.concat([cars,dummies], axis=1)\n",
    "\n",
    "# x_vars\n",
    "x_vars = ['logp', 'home', 'cy', 'hp', 'we', 'li'] # <--- !!! choose your preferred variables here \n",
    "print(f'K = {len(x_vars)} variables selected.')\n",
    "\n",
    "K = len(x_vars)\n",
    "N = cars.ma.nunique() * cars.ye.nunique()\n",
    "J = 40\n",
    "x = cars[x_vars].values.reshape((N,J,K))\n",
    "y = (cars['s'].values.reshape((N,J)))\n",
    "\n",
    "# standardize x\n",
    "x = ((x - x.mean(0).mean(0))/(x.std(0).std(0)))\n",
    "# \"bange for at nogen variable driver det for meget\"\n",
    "# \"singular matrix = collinearity\""
   ]
  },
  {
   "cell_type": "markdown",
   "metadata": {},
   "source": [
    "### `x_vars`: List of regressors to be used "
   ]
  },
  {
   "cell_type": "code",
   "execution_count": 5,
   "metadata": {},
   "outputs": [
    {
     "name": "stdout",
     "output_type": "stream",
     "text": [
      "K = 6 variables selected.\n"
     ]
    }
   ],
   "source": [
    "x_vars = ['logp', 'home', 'cy', 'hp', 'we', 'li'] # <--- !!! choose your preferred variables here \n",
    "print(f'K = {len(x_vars)} variables selected.')"
   ]
  },
  {
   "cell_type": "markdown",
   "metadata": {},
   "source": [
    "# Towards logit \n",
    "\n",
    "In order to work with the logit model, you have to be able to compute the utility indices, which typically take the form of some inner product of an $x$-vector and a $\\theta$ vector. This is illustrated for you below. Since `x` is `(N,J,K)` (i.e. `x[i,j,:]` gives the $K$-vector of regressors for the car `j` in market-period `i`), we just have to form the matrix product `x @ theta`, and Python will do the sum over the 3rd dimension of `x`. "
   ]
  },
  {
   "cell_type": "code",
   "execution_count": 8,
   "metadata": {},
   "outputs": [],
   "source": [
    "#v = x @ theta0 # how to multiply a trial value with the matrix of regressors \n",
    "#np.exp(v) / np.sum(np.exp(v), 1, keepdims=True) # choice probabilities "
   ]
  },
  {
   "cell_type": "code",
   "execution_count": 9,
   "metadata": {},
   "outputs": [],
   "source": [
    "theta0 = clogit_project3.starting_values(y, x)"
   ]
  },
  {
   "cell_type": "code",
   "execution_count": 27,
   "metadata": {},
   "outputs": [
    {
     "name": "stdout",
     "output_type": "stream",
     "text": [
      "Optimization terminated successfully.\n",
      "         Current function value: 3.501650\n",
      "         Iterations: 449\n",
      "         Function evaluations: 709\n",
      "Optimization terminated successfully.\n",
      "         Current function value: 3.501647\n",
      "         Iterations: 11\n",
      "         Function evaluations: 126\n",
      "         Gradient evaluations: 18\n",
      "Optimization terminated successfully.\n",
      "         Current function value: 3.501647\n",
      "         Iterations: 11\n",
      "         Function evaluations: 126\n",
      "         Gradient evaluations: 18\n"
     ]
    }
   ],
   "source": [
    "pairs = [\n",
    "    ('Nelder-Mead', 'Outer Product')\n",
    "    , ('BFGS', 'Hessian')\n",
    "    , ('BFGS', 'Sandwich')\n",
    "]\n",
    "\n",
    "list_of_dfs = []\n",
    "\n",
    "for pair in pairs:\n",
    "    \n",
    "    method = pair[0]\n",
    "    cov_type = pair[1]\n",
    "    \n",
    "    res = est.estimate(clogit_project3.q\n",
    "                       , theta0\n",
    "                       , y\n",
    "                       , x\n",
    "                       , method=method\n",
    "                       , cov_type=cov_type\n",
    "                      )\n",
    "    \n",
    "    temp = pd.DataFrame({v:res[v] for v in ['theta', 'se', 't']})\n",
    "    temp['method'] = [method for i in range(temp.shape[0])]\n",
    "    temp['cov_type'] = [cov_type for i in range(temp.shape[0])]\n",
    "    \n",
    "    list_of_dfs.append(temp)\n",
    "\n",
    "res_df = pd.concat(list_of_dfs, ignore_index=True)"
   ]
  },
  {
   "cell_type": "code",
   "execution_count": 29,
   "metadata": {},
   "outputs": [],
   "source": [
    "#res_df"
   ]
  },
  {
   "cell_type": "code",
   "execution_count": 33,
   "metadata": {},
   "outputs": [],
   "source": [
    "df_hess = res_df[(res_df.method == 'BFGS') & (res_df.cov_type == 'Hessian')].copy()"
   ]
  },
  {
   "cell_type": "code",
   "execution_count": 34,
   "metadata": {},
   "outputs": [],
   "source": [
    "df_sand = res_df[(res_df.method == 'BFGS') & (res_df.cov_type == 'Sandwich')].copy()"
   ]
  },
  {
   "cell_type": "code",
   "execution_count": 36,
   "metadata": {},
   "outputs": [],
   "source": [
    "df_hess['diff_in_se'] = df_hess.se - df_sand.se"
   ]
  },
  {
   "cell_type": "code",
   "execution_count": 39,
   "metadata": {},
   "outputs": [
    {
     "data": {
      "text/plain": [
       "numpy.float64"
      ]
     },
     "execution_count": 39,
     "metadata": {},
     "output_type": "execute_result"
    }
   ],
   "source": [
    "type(df_hess.se[6])"
   ]
  },
  {
   "cell_type": "markdown",
   "metadata": {},
   "source": [
    "### Partial effect\n",
    "$$\n",
    "    \\frac{\\partial}{\\partial x_kl} Pr(j) = Pr(j) \\left[\\boldsymbol{1}_{k=j} \\beta_{l} -  Pr(l) \\beta_{l} \\right]\n",
    "$$"
   ]
  },
  {
   "cell_type": "markdown",
   "metadata": {},
   "source": []
  },
  {
   "cell_type": "code",
   "execution_count": null,
   "metadata": {},
   "outputs": [],
   "source": []
  }
 ],
 "metadata": {
  "interpreter": {
   "hash": "7d7da66137592ac323fdae235f73f52cf7e1b708075c75a7c5667c329f8e3fd0"
  },
  "kernelspec": {
   "display_name": "Python 3",
   "language": "python",
   "name": "python3"
  },
  "language_info": {
   "codemirror_mode": {
    "name": "ipython",
    "version": 3
   },
   "file_extension": ".py",
   "mimetype": "text/x-python",
   "name": "python",
   "nbconvert_exporter": "python",
   "pygments_lexer": "ipython3",
   "version": "3.8.5"
  }
 },
 "nbformat": 4,
 "nbformat_minor": 4
}

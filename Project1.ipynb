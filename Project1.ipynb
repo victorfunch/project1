{
 "cells": [
  {
   "cell_type": "markdown",
   "metadata": {},
   "source": [
    "# Project 1: Production Technology\n",
    "\n",
    "The dataset contains `N = 441` firms observed over `T = 12` years, 1968-1979. There variables are: \n",
    "* `lcap`: Log of capital stock, $k_{it}$ \n",
    "* `lemp`: log of employment, $\\ell_{it}$ \n",
    "* `ldsa`: log of deflated sales, $y_{it}$\n",
    "* `year`: the calendar year of the observation, `year` $ = 1968, ..., 1979$, \n",
    "* `firmid`: anonymized indicator variable for the firm, $i = 1, ..., N$, with $N=441$. "
   ]
  },
  {
   "cell_type": "code",
   "execution_count": 1,
   "metadata": {},
   "outputs": [],
   "source": [
    "import pandas as pd \n",
    "import numpy as np \n",
    "import seaborn as sns\n",
    "from numpy import linalg as la\n",
    "from tabulate import tabulate\n",
    "from scipy.stats import chi2"
   ]
  },
  {
   "cell_type": "code",
   "execution_count": 2,
   "metadata": {},
   "outputs": [
    {
     "data": {
      "text/html": [
       "<div>\n",
       "<style scoped>\n",
       "    .dataframe tbody tr th:only-of-type {\n",
       "        vertical-align: middle;\n",
       "    }\n",
       "\n",
       "    .dataframe tbody tr th {\n",
       "        vertical-align: top;\n",
       "    }\n",
       "\n",
       "    .dataframe thead th {\n",
       "        text-align: right;\n",
       "    }\n",
       "</style>\n",
       "<table border=\"1\" class=\"dataframe\">\n",
       "  <thead>\n",
       "    <tr style=\"text-align: right;\">\n",
       "      <th></th>\n",
       "      <th>firmid</th>\n",
       "      <th>year</th>\n",
       "      <th>lcap</th>\n",
       "      <th>lemp</th>\n",
       "      <th>ldsa</th>\n",
       "    </tr>\n",
       "  </thead>\n",
       "  <tbody>\n",
       "    <tr>\n",
       "      <th>0</th>\n",
       "      <td>1</td>\n",
       "      <td>1968</td>\n",
       "      <td>0.998602</td>\n",
       "      <td>-0.242185</td>\n",
       "      <td>0.349053</td>\n",
       "    </tr>\n",
       "    <tr>\n",
       "      <th>1</th>\n",
       "      <td>1</td>\n",
       "      <td>1969</td>\n",
       "      <td>0.925214</td>\n",
       "      <td>-0.241278</td>\n",
       "      <td>0.312492</td>\n",
       "    </tr>\n",
       "    <tr>\n",
       "      <th>2</th>\n",
       "      <td>1</td>\n",
       "      <td>1970</td>\n",
       "      <td>0.879616</td>\n",
       "      <td>-0.265134</td>\n",
       "      <td>0.347566</td>\n",
       "    </tr>\n",
       "    <tr>\n",
       "      <th>3</th>\n",
       "      <td>1</td>\n",
       "      <td>1971</td>\n",
       "      <td>0.843098</td>\n",
       "      <td>-0.317875</td>\n",
       "      <td>0.234744</td>\n",
       "    </tr>\n",
       "    <tr>\n",
       "      <th>4</th>\n",
       "      <td>1</td>\n",
       "      <td>1972</td>\n",
       "      <td>0.823280</td>\n",
       "      <td>-0.372247</td>\n",
       "      <td>0.182199</td>\n",
       "    </tr>\n",
       "  </tbody>\n",
       "</table>\n",
       "</div>"
      ],
      "text/plain": [
       "   firmid  year      lcap      lemp      ldsa\n",
       "0       1  1968  0.998602 -0.242185  0.349053\n",
       "1       1  1969  0.925214 -0.241278  0.312492\n",
       "2       1  1970  0.879616 -0.265134  0.347566\n",
       "3       1  1971  0.843098 -0.317875  0.234744\n",
       "4       1  1972  0.823280 -0.372247  0.182199"
      ]
     },
     "execution_count": 2,
     "metadata": {},
     "output_type": "execute_result"
    }
   ],
   "source": [
    "dat = pd.read_csv('firms.csv')\n",
    "dat.head()"
   ]
  },
  {
   "cell_type": "markdown",
   "metadata": {},
   "source": [
    "# Converting data to numpy format "
   ]
  },
  {
   "cell_type": "code",
   "execution_count": 6,
   "metadata": {},
   "outputs": [
    {
     "name": "stdout",
     "output_type": "stream",
     "text": [
      "Data has N=441 and T=12\n"
     ]
    }
   ],
   "source": [
    "N = dat.firmid.unique().size\n",
    "T = dat.year.unique().size\n",
    "assert dat.shape[0] == N*T, f'Error: data is not a balanced panel'\n",
    "print(f'Data has N={N} and T={T}')"
   ]
  },
  {
   "cell_type": "markdown",
   "metadata": {},
   "source": [
    "Extract data from `pandas` to `numpy` arrays. "
   ]
  },
  {
   "cell_type": "code",
   "execution_count": 7,
   "metadata": {},
   "outputs": [],
   "source": [
    "y = dat.ldsa.values.reshape((N*T,1))\n",
    "ones = np.ones((N*T,1))\n",
    "l = dat.lemp.values.reshape((N*T,1))\n",
    "k = dat.lcap.values.reshape((N*T,1))\n",
    "X = np.hstack([ones, l, k])"
   ]
  },
  {
   "cell_type": "code",
   "execution_count": 8,
   "metadata": {},
   "outputs": [],
   "source": [
    "def estimate( y, x, transform='', n=None, t=None,robust=False):\n",
    "    \"\"\"Takes some np.arrays and estimates regular OLS, FE or FD.\n",
    "    \n",
    "\n",
    "    Args:\n",
    "        y (np.array): The dependent variable, needs to have the shape (n*t, 1)\n",
    "        x (np.array): The independent variable(s). If only one independent \n",
    "        variable, then it needs to have the shape (n*t, 1).\n",
    "        transform (str, optional): Specify if estimating fe or fd, in order \n",
    "        to get correct variance estimation. Defaults to ''.\n",
    "        n (int, optional): Number of observations. If panel, then the \n",
    "        number of individuals. Defaults to None.\n",
    "        t (int, optional): If panel, then the number of periods an \n",
    "        individual is observerd. Defaults to None.\n",
    "\n",
    "    Returns:\n",
    "        dict: A dictionary with the results from the ols-estimation.\n",
    "    \"\"\"\n",
    "    \n",
    "    b_hat = np.dot(la.inv(x.T@x),x.T@y) # Fill in\n",
    "    resid = y - x@b_hat # Fill in\n",
    "    #u_hat = resid @ resid # Fill in\n",
    "    SSR = np.square(resid).sum() # Fill in\n",
    "    SST = np.square(y-np.mean(y)).sum()\n",
    "    R2 = 1- SSR/SST # Fill in\n",
    "\n",
    "    if robust == False:\n",
    "        sigma, cov, se = variance(transform, SSR, x, t,robust=robust)\n",
    "        t_values =  b_hat.reshape(-1,1) / se.reshape(-1,1)# Fill in\n",
    "\n",
    "        names = ['b_hat', 'se', 'sigma', 't_values', 'R2', 'cov']\n",
    "        results = [b_hat, se, sigma, t_values, R2, cov]\n",
    "        return dict(zip(names, results))\n",
    "    else:\n",
    "        sigma, se = variance(transform, SSR, x, t,robust=robust)\n",
    "        t_values =  b_hat.reshape(-1,1) / se.reshape(-1,1)# Fill in\n",
    "\n",
    "        names = ['b_hat', 'se', 'sigma', 't_values', 'R2']\n",
    "        results = [b_hat, se, sigma, t_values, R2]\n",
    "        return dict(zip(names, results))"
   ]
  },
  {
   "cell_type": "code",
   "execution_count": 9,
   "metadata": {},
   "outputs": [],
   "source": [
    "def variance(transform: str, SSR: float, x: np.array, t: int,robust=False) -> tuple:\n",
    "    \"\"\"Calculates the covariance and standard errors from the OLS\n",
    "    estimation.\n",
    "\n",
    "    Args:\n",
    "        >> transform (str): Defaults to ''. If the data is transformed in \n",
    "        any way, the following transformations are allowed:\n",
    "            '': No transformations\n",
    "            'fd': First-difference\n",
    "            'be': Between transformation\n",
    "            'fe': Within transformation\n",
    "            're': Random effects estimation\n",
    "        >> SSR (float): Sum of squared residuals\n",
    "        >> x (np.array): Dependent variables from regression\n",
    "        >> t (int): The number of time periods in x.\n",
    "\n",
    "    Raises:\n",
    "        Exception: If invalid transformation is provided, returns\n",
    "        an error.\n",
    "\n",
    "    Returns:\n",
    "        tuple: Returns the error variance (mean square error), \n",
    "        covariance matrix and standard errors.\n",
    "    \"\"\"\n",
    "\n",
    "    # Store n and k, used for DF adjustments.\n",
    "    k = x.shape[1]\n",
    "    if transform in ('', 'fd', 'be'):\n",
    "        n = x.shape[0]\n",
    "    else:\n",
    "        n = x.shape[0]/t\n",
    "\n",
    "    # Calculate sigma2\n",
    "    if robust == False:\n",
    "        if transform in ('', 'fd', 'be'):\n",
    "            sigma2 = (np.array(SSR/(n - k)))\n",
    "        elif transform.lower() == 'fe':\n",
    "            sigma2 = np.array(SSR/(n * (t - 1) - k))\n",
    "        elif transform.lower() == 're':\n",
    "            sigma2 = np.array(SSR/(t * n - k))\n",
    "        else:\n",
    "            raise Exception('Invalid transform provided.')\n",
    "        cov = sigma2*la.inv(x.T@x)\n",
    "        se = np.sqrt(cov.diagonal()).reshape(-1, 1)\n",
    "        return sigma2, cov, se\n",
    "    \n",
    "    elif robust == True:\n",
    "        if transform in ('', 'fd', 'be','fe','re'):\n",
    "            sigma2 = np.array(la.inv(x.T@x)*np.sum(x@x.T@np.square(resid),axis=0)@la.inv(x.T@x))\n",
    "        else:\n",
    "            raise Exception('Invalid transform provided.')\n",
    "        se = np.sqrt(np.diag(sigma2))\n",
    "        return sigma2, se\n",
    "    "
   ]
  },
  {
   "cell_type": "code",
   "execution_count": 10,
   "metadata": {},
   "outputs": [],
   "source": [
    "pool_ols_res = estimate(y, X, transform='', n=N, t=T,robust=False) "
   ]
  },
  {
   "cell_type": "code",
   "execution_count": 11,
   "metadata": {},
   "outputs": [],
   "source": [
    "def print_table(\n",
    "        labels: tuple,\n",
    "        results: dict,\n",
    "        headers=[\"\", \"Beta\", \"Se\", \"t-values\"],\n",
    "        title=\"Results\",\n",
    "        **kwargs\n",
    "    ) -> None:\n",
    "    label_y, label_x = labels\n",
    "    # Create table for data on coefficients\n",
    "    table = []\n",
    "    for i, name in enumerate(label_x):\n",
    "        row = [\n",
    "            name, \n",
    "            results.get('b_hat')[i], \n",
    "            results.get('se')[i], \n",
    "            results.get('t_values')[i]\n",
    "        ]\n",
    "        table.append(row)\n",
    "    \n",
    "    # Print table\n",
    "    print(title)\n",
    "    print(f\"Dependent variable: {label_y}\\n\")\n",
    "    print(tabulate(table, headers, **kwargs))\n",
    "    \n",
    "    # Print data for model specification\n",
    "    print(f\"R\\u00b2 = {results.get('R2').item():.3f}\")\n",
    "    #print(f\"\\u03C3\\u00b2 = {results.get('sigma').item():.3f}\")"
   ]
  },
  {
   "cell_type": "code",
   "execution_count": 12,
   "metadata": {},
   "outputs": [],
   "source": [
    "label_y=[\"log(sales)\"]\n",
    "label_x=[\"constant\",\"lemp\",\"lcap\"]"
   ]
  },
  {
   "cell_type": "code",
   "execution_count": 13,
   "metadata": {},
   "outputs": [
    {
     "name": "stdout",
     "output_type": "stream",
     "text": [
      "Results\n",
      "Dependent variable: ['log(sales)']\n",
      "\n",
      "                 Beta          Se    t-values\n",
      "--------  -----------  ----------  ----------\n",
      "constant  1.53588e-08  0.00497209   3.089e-06\n",
      "lemp      0.674774     0.0101527   66.4625\n",
      "lcap      0.310041     0.00913935  33.9237\n",
      "R² = 0.914\n"
     ]
    }
   ],
   "source": [
    "print_table(labels=(label_y,label_x),results=pool_ols_res,headers=[\"\", \"Beta\", \"Se\", \"t-values\"],title=\"Results\")"
   ]
  },
  {
   "cell_type": "markdown",
   "metadata": {},
   "source": [
    "# Fixed effects"
   ]
  },
  {
   "cell_type": "code",
   "execution_count": 14,
   "metadata": {},
   "outputs": [],
   "source": [
    "Q_T = np.eye(T)-np.tile(1/T,(T,T))"
   ]
  },
  {
   "cell_type": "code",
   "execution_count": 15,
   "metadata": {},
   "outputs": [],
   "source": [
    "def perm( Q_T: np.array, A: np.array, t=0) -> np.array:\n",
    "    \"\"\"Takes a transformation matrix and performs the transformation on \n",
    "    the given vector or matrix.\n",
    "\n",
    "    Args:\n",
    "        Q_T (np.array): The transformation matrix. Needs to have the same\n",
    "        dimensions as number of years a person is in the sample.\n",
    "        \n",
    "        A (np.array): The vector or matrix that is to be transformed. Has\n",
    "        to be a 2d array.\n",
    "\n",
    "    Returns:\n",
    "        np.array: Returns the transformed vector or matrix.\n",
    "    \"\"\"\n",
    "    # We can infer t from the shape of the transformation matrix.\n",
    "    if t==0:\n",
    "        t = Q_T.shape[1]\n",
    "\n",
    "    # Initialize the numpy array\n",
    "    Z = np.array([[]])\n",
    "    Z = Z.reshape(0, A.shape[1])\n",
    "\n",
    "    # Loop over the individuals, and permutate their values.\n",
    "    for i in range(int(A.shape[0]/t)):\n",
    "        Z = np.vstack((Z, Q_T@A[i*t: (i + 1)*t]))\n",
    "    return Z"
   ]
  },
  {
   "cell_type": "code",
   "execution_count": 16,
   "metadata": {},
   "outputs": [],
   "source": [
    "x_fe = perm(Q_T, X)\n",
    "y_fe = perm(Q_T,y)"
   ]
  },
  {
   "cell_type": "code",
   "execution_count": 17,
   "metadata": {},
   "outputs": [
    {
     "data": {
      "text/plain": [
       "2"
      ]
     },
     "execution_count": 17,
     "metadata": {},
     "output_type": "execute_result"
    }
   ],
   "source": [
    "la.matrix_rank(x_fe)"
   ]
  },
  {
   "cell_type": "code",
   "execution_count": 18,
   "metadata": {},
   "outputs": [
    {
     "data": {
      "text/plain": [
       "1"
      ]
     },
     "execution_count": 18,
     "metadata": {},
     "output_type": "execute_result"
    }
   ],
   "source": [
    "la.matrix_rank(y_fe)"
   ]
  },
  {
   "cell_type": "code",
   "execution_count": 19,
   "metadata": {},
   "outputs": [],
   "source": [
    "idx = np.argwhere(np.all(np.isclose(x_fe[...,:], 0), axis=0))\n",
    "x_fe = np.delete(x_fe,idx,axis=1)"
   ]
  },
  {
   "cell_type": "code",
   "execution_count": 20,
   "metadata": {},
   "outputs": [],
   "source": [
    "fe_ols_res = estimate(y_fe, x_fe, transform='fe', n=N, t=T,robust=False) "
   ]
  },
  {
   "cell_type": "code",
   "execution_count": 21,
   "metadata": {},
   "outputs": [
    {
     "name": "stdout",
     "output_type": "stream",
     "text": [
      "Results\n",
      "Dependent variable: ['log(sales)']\n",
      "\n",
      "          Beta         Se    t-values\n",
      "----  --------  ---------  ----------\n",
      "lemp  0.694226  0.0146943     47.2447\n",
      "lcap  0.15462   0.0129594     11.9311\n",
      "R² = 0.477\n"
     ]
    }
   ],
   "source": [
    "print_table(labels=(label_y,[\"lemp\",\"lcap\"]), results=fe_ols_res,headers=[\"\", \"Beta\", \"Se\", \"t-values\"],title=\"Results\")"
   ]
  },
  {
   "cell_type": "markdown",
   "metadata": {},
   "source": [
    "# First difference"
   ]
  },
  {
   "cell_type": "code",
   "execution_count": 22,
   "metadata": {},
   "outputs": [],
   "source": [
    "def fd_mat(t):\n",
    "    D_t = np.eye(t-1,t,1)-np.eye(t-1,t)\n",
    "    return D_t"
   ]
  },
  {
   "cell_type": "code",
   "execution_count": 23,
   "metadata": {},
   "outputs": [],
   "source": [
    "D_T = fd_mat(T)"
   ]
  },
  {
   "cell_type": "code",
   "execution_count": 24,
   "metadata": {},
   "outputs": [],
   "source": [
    "x_dd = perm(D_T, X)\n",
    "y_dd = perm(D_T,y)"
   ]
  },
  {
   "cell_type": "code",
   "execution_count": 25,
   "metadata": {},
   "outputs": [],
   "source": [
    "idx = np.argwhere(np.all(np.isclose(x_dd[...,:], 0), axis=0))\n",
    "x_dd = np.delete(x_dd,idx,axis=1)"
   ]
  },
  {
   "cell_type": "code",
   "execution_count": 26,
   "metadata": {},
   "outputs": [],
   "source": [
    "fd_ols_res = estimate(y_dd, x_dd, transform='fd', n=N, t=T-1) "
   ]
  },
  {
   "cell_type": "code",
   "execution_count": 27,
   "metadata": {},
   "outputs": [
    {
     "name": "stdout",
     "output_type": "stream",
     "text": [
      "Results\n",
      "Dependent variable: ['log(sales)']\n",
      "\n",
      "           Beta         Se    t-values\n",
      "----  ---------  ---------  ----------\n",
      "lemp  0.548666   0.0183111    29.9635\n",
      "lcap  0.0629604  0.0190539     3.30432\n",
      "R² = 0.165\n"
     ]
    }
   ],
   "source": [
    "print_table(labels=(label_y,[\"lemp\",\"lcap\"]), results=fd_ols_res,headers=[\"\", \"Beta\", \"Se\", \"t-values\"],title=\"Results\")"
   ]
  },
  {
   "cell_type": "markdown",
   "metadata": {},
   "source": [
    "# RE effects"
   ]
  },
  {
   "cell_type": "code",
   "execution_count": 28,
   "metadata": {},
   "outputs": [],
   "source": [
    "P_T = np.tile(1/T,(T,T))"
   ]
  },
  {
   "cell_type": "code",
   "execution_count": 29,
   "metadata": {},
   "outputs": [],
   "source": [
    "x_p = perm(P_T,X)\n",
    "y_p = perm(P_T,y)"
   ]
  },
  {
   "cell_type": "code",
   "execution_count": 30,
   "metadata": {},
   "outputs": [],
   "source": [
    "idx = np.argwhere(np.all(x_p[...,:]==0, axis=0))\n",
    "x_p = np.delete(x_p,idx,axis=1)"
   ]
  },
  {
   "cell_type": "code",
   "execution_count": 31,
   "metadata": {},
   "outputs": [
    {
     "name": "stdout",
     "output_type": "stream",
     "text": [
      "BE regression\n",
      "Dependent variable: ['log(sales)']\n",
      "\n",
      "            Beta      Se    t-values\n",
      "--------  ------  ------  ----------\n",
      "constant  0.0000  0.0046      0.0000\n",
      "lemp      0.6672  0.0099     67.6130\n",
      "lcap      0.3188  0.0089     35.8720\n",
      "R² = 0.923\n"
     ]
    }
   ],
   "source": [
    "be_result = estimate(y_p, x_p, transform='be',t=T)\n",
    "print_table(\n",
    "    (label_y, label_x), \n",
    "    be_result, title='BE regression', floatfmt='.4f'\n",
    ")"
   ]
  },
  {
   "cell_type": "code",
   "execution_count": null,
   "metadata": {},
   "outputs": [],
   "source": []
  },
  {
   "cell_type": "code",
   "execution_count": 32,
   "metadata": {},
   "outputs": [],
   "source": [
    "sigma_u = fe_ols_res.get(\"sigma\")\n",
    "sigma_v = be_result.get(\"sigma\")\n",
    "sigma_c = sigma_v - 1/T*sigma_u"
   ]
  },
  {
   "cell_type": "code",
   "execution_count": 33,
   "metadata": {},
   "outputs": [],
   "source": [
    "lambda_hat = 1 - np.sqrt(sigma_u/(sigma_u+T*sigma_c))"
   ]
  },
  {
   "cell_type": "code",
   "execution_count": 34,
   "metadata": {},
   "outputs": [],
   "source": [
    "C_T = np.eye(T)-lambda_hat*P_T"
   ]
  },
  {
   "cell_type": "code",
   "execution_count": 35,
   "metadata": {},
   "outputs": [],
   "source": [
    "x_c = perm(C_T,X)\n",
    "y_c = perm(C_T,y)"
   ]
  },
  {
   "cell_type": "code",
   "execution_count": 36,
   "metadata": {},
   "outputs": [
    {
     "name": "stdout",
     "output_type": "stream",
     "text": [
      "RE regression\n",
      "Dependent variable: ['log(sales)']\n",
      "\n",
      "            Beta      Se    t-values\n",
      "--------  ------  ------  ----------\n",
      "constant  0.0000  0.0162      0.0000\n",
      "lemp      0.7197  0.0131     54.8444\n",
      "lcap      0.1990  0.0117     17.0431\n",
      "R² = 0.643\n"
     ]
    }
   ],
   "source": [
    "re_result = estimate(y_c, x_c, transform='re',t=T)\n",
    "print_table(\n",
    "    (label_y, label_x), \n",
    "    re_result, title='RE regression', floatfmt='.4f'\n",
    ")"
   ]
  },
  {
   "cell_type": "markdown",
   "metadata": {},
   "source": [
    "# hausman"
   ]
  },
  {
   "cell_type": "code",
   "execution_count": 37,
   "metadata": {},
   "outputs": [],
   "source": [
    "hat_diff = fe_ols_res.get(\"b_hat\")-re_result.get(\"b_hat\")[1:]"
   ]
  },
  {
   "cell_type": "code",
   "execution_count": 38,
   "metadata": {},
   "outputs": [],
   "source": [
    "avar_fe = fe_ols_res.get(\"cov\")\n",
    "avar_re = re_result.get(\"cov\")"
   ]
  },
  {
   "cell_type": "code",
   "execution_count": 39,
   "metadata": {},
   "outputs": [],
   "source": [
    "cov_diff = avar_fe - avar_re[1:,1:]"
   ]
  },
  {
   "cell_type": "code",
   "execution_count": 40,
   "metadata": {},
   "outputs": [],
   "source": [
    "H = hat_diff.T@la.inv(cov_diff)@hat_diff # The Hausman test value\n",
    "\n",
    "# This calculates the p-value of the Hausman test.\n",
    "p_val = chi2.sf(H.item(), 4)"
   ]
  },
  {
   "cell_type": "code",
   "execution_count": 41,
   "metadata": {},
   "outputs": [
    {
     "name": "stdout",
     "output_type": "stream",
     "text": [
      "  b_fe    b_re    b_diff\n",
      "------  ------  --------\n",
      "0.6942  0.7197   -0.0255\n",
      "0.1546  0.1990   -0.0444\n",
      "The Hausman test statistic is: 73.87, with p-value: 0.00.\n"
     ]
    }
   ],
   "source": [
    "# This code takes the results that you have made, and prints a nice looking table.\n",
    "def print_h_test(fe_result, re_result, hat_diff, p_val):\n",
    "    table = []\n",
    "    for i in range(len(hat_diff)):\n",
    "        row = [\n",
    "            fe_ols_res['b_hat'][i], re_result['b_hat'][1:][i], hat_diff[i]\n",
    "        ]\n",
    "        table.append(row)\n",
    "\n",
    "    print(tabulate(\n",
    "        table, headers=['b_fe', 'b_re', 'b_diff'], floatfmt='.4f'\n",
    "        ))\n",
    "    print(f'The Hausman test statistic is: {H.item():.2f}, with p-value: {p_val:.2f}.')\n",
    "print_h_test(fe_ols_res, re_result, hat_diff, p_val)"
   ]
  },
  {
   "cell_type": "markdown",
   "metadata": {},
   "source": [
    "# we reject the null -> $c_{i}$ is correlated with $x_{i}$"
   ]
  },
  {
   "cell_type": "code",
   "execution_count": 198,
   "metadata": {},
   "outputs": [
    {
     "name": "stdout",
     "output_type": "stream",
     "text": [
      "                     POLS\n",
      "--------------------------------------------\n",
      "Beta_1 + Beta_2 = 1: W = 12.98 and p = 0.00\n",
      "--------------------------------------------\n",
      "\n",
      "                     FE\n",
      "--------------------------------------------\n",
      "Beta_1 + Beta_2 = 1: W = 135.19 and p = 0.00\n",
      "--------------------------------------------\n",
      "\n",
      "                     RE\n",
      "--------------------------------------------\n",
      "Beta_1 + Beta_2 = 1: W = 74.07 and p = 0.00\n",
      "--------------------------------------------\n",
      "\n",
      "                     FD\n",
      "--------------------------------------------\n",
      "Beta_1 + Beta_2 = 1: W = 251.73 and p = 0.00\n",
      "--------------------------------------------\n",
      "\n"
     ]
    }
   ],
   "source": [
    "def test_homogeneity(results):\n",
    "    betas = results['b_hat']\n",
    "    Avar = results['cov']\n",
    "    \n",
    "    if betas.shape[0] == 3:\n",
    "        R = np.array([[0,1,1]])\n",
    "        r = np.array([[1]])\n",
    "        \n",
    "    else:\n",
    "        R = np.array([[1,1]])\n",
    "        r = np.array([[1]])\n",
    "              \n",
    "    W = (R@betas-r).T@la.inv(R@Avar@R.T)@(R@betas-r)\n",
    "    p_val = chi2.sf(W.item(), 2)\n",
    "    return W.item(), p_val\n",
    "\n",
    "for result, name in zip([pool_ols_res, fe_ols_res, re_result, fd_ols_res], ['POLS', 'FE', 'RE', 'FD']):\n",
    "    test = test_homogeneity(result)\n",
    "    print(f'                     {name}')\n",
    "    print('--------------------------------------------')\n",
    "    print(f'Beta_1 + Beta_2 = 1: W = {test[0]:.2f} and p = {test[1]:.2f}')\n",
    "    print('--------------------------------------------\\n')"
   ]
  },
  {
   "cell_type": "markdown",
   "metadata": {},
   "source": [
    "$$W \\equiv (\\boldsymbol{R} \\hat{\\beta} - \\boldsymbol{r})'[\\boldsymbol{R} Avar(\\hat{\\beta})R']^{-1}(\\boldsymbol{R} \\hat{\\beta} - \\boldsymbol{r})$$"
   ]
  },
  {
   "cell_type": "markdown",
   "metadata": {},
   "source": [
    "$$(QxK @ Kx1)' -> 1xQ$$"
   ]
  },
  {
   "cell_type": "markdown",
   "metadata": {},
   "source": [
    "$$Q x K @ K x K @ K x Q$$"
   ]
  },
  {
   "cell_type": "code",
   "execution_count": 250,
   "metadata": {},
   "outputs": [
    {
     "data": {
      "text/plain": [
       "(5292,)"
      ]
     },
     "execution_count": 250,
     "metadata": {},
     "output_type": "execute_result"
    }
   ],
   "source": [
    "year = np.array(dat.year, dtype=int)\n",
    "year.shape"
   ]
  },
  {
   "cell_type": "code",
   "execution_count": 251,
   "metadata": {},
   "outputs": [],
   "source": [
    "def est_ols( y: np.array, x: np.array) -> np.array:\n",
    "    \"\"\"Estimates y on x by ordinary least squares, returns coefficents\n",
    "\n",
    "    Args:\n",
    "        >> y (np.array): Dependent variable (Needs to have shape 2D shape)\n",
    "        >> x (np.array): Independent variable (Needs to have shape 2D shape)\n",
    "\n",
    "    Returns:\n",
    "        np.array: Estimated beta coefficients.\n",
    "    \"\"\"\n",
    "    return la.inv(x.T@x)@(x.T@y)"
   ]
  },
  {
   "cell_type": "code",
   "execution_count": 252,
   "metadata": {},
   "outputs": [
    {
     "name": "stdout",
     "output_type": "stream",
     "text": [
      "Serial Correlation\n",
      "Dependent variable: OLS residual, eᵢₜ\n",
      "\n",
      "          Beta      Se    t-values\n",
      "-----  -------  ------  ----------\n",
      "eᵢₜ₋₁  -0.1987  0.0148    -13.4493\n",
      "R² = 0.039\n"
     ]
    }
   ],
   "source": [
    "reduced_year = year[year != 1968]\n",
    "\n",
    "def serial_corr(y, x, t, year):\n",
    "    b_hat = est_ols(y, x)\n",
    "    e = y - x@b_hat\n",
    "    \n",
    "    # Create a lag to estimate the error on.\n",
    "    L_T = np.eye(t, k=-1)\n",
    "    L_T = L_T[1:]\n",
    "\n",
    "    e_l = perm(L_T, e)\n",
    "\n",
    "    # We then need to remove the first obs for every person again.\n",
    "    e = e[year != 1969]\n",
    "\n",
    "    return estimate(e, e_l)\n",
    "\n",
    "corr_result = serial_corr(y_dd, x_dd, T-1, reduced_year)\n",
    "\n",
    "label_ye = 'OLS residual, e\\u1d62\\u209c'\n",
    "label_e = ['e\\u1d62\\u209c\\u208B\\u2081']\n",
    "title = 'Serial Correlation'\n",
    "print_table((label_ye, label_e), corr_result, title='Serial Correlation', floatfmt='.4f')"
   ]
  },
  {
   "cell_type": "code",
   "execution_count": 253,
   "metadata": {},
   "outputs": [],
   "source": [
    "def demeaning_matrix(t):\n",
    "    Q_T = np.eye(t) - np.tile(1/t, (t, t))\n",
    "    return Q_T"
   ]
  },
  {
   "cell_type": "code",
   "execution_count": 254,
   "metadata": {},
   "outputs": [
    {
     "data": {
      "text/plain": [
       "1979"
      ]
     },
     "execution_count": 254,
     "metadata": {},
     "output_type": "execute_result"
    }
   ],
   "source": [
    "year[-1]"
   ]
  },
  {
   "cell_type": "code",
   "execution_count": 255,
   "metadata": {},
   "outputs": [
    {
     "data": {
      "text/plain": [
       "array([[ 1.       , -0.242185 ,  0.9986017],\n",
       "       [ 1.       , -0.241278 ,  0.9252139],\n",
       "       [ 1.       , -0.265134 ,  0.8796163],\n",
       "       ...,\n",
       "       [ 1.       , -0.672649 , -0.719267 ],\n",
       "       [ 1.       , -0.623978 , -0.536874 ],\n",
       "       [ 1.       , -0.567195 , -0.522616 ]])"
      ]
     },
     "execution_count": 255,
     "metadata": {},
     "output_type": "execute_result"
    }
   ],
   "source": [
    "X"
   ]
  },
  {
   "cell_type": "code",
   "execution_count": 262,
   "metadata": {},
   "outputs": [
    {
     "name": "stdout",
     "output_type": "stream",
     "text": [
      "Exogeneity test\n",
      "Dependent variable: ['log(sales)']\n",
      "\n",
      "                Beta      Se    t-values\n",
      "------------  ------  ------  ----------\n",
      "lemp          0.6479  0.0162     39.9359\n",
      "lcap          0.0210  0.0231      0.9093\n",
      "Capital lead  0.1793  0.0258      6.9500\n",
      "R² = 0.474\n"
     ]
    }
   ],
   "source": [
    "def demeaning_matrix(t):\n",
    "    Q_T = np.eye(t) - np.tile(1/t, (t, t))\n",
    "    return Q_T\n",
    "\n",
    "def exogeneity_test(x, y, t, year, var):\n",
    "    # Create lead\n",
    "    F_T = np.eye(t, k=1)\n",
    "    F_T = F_T[:-1]\n",
    "\n",
    "    # Choose var\n",
    "    if var == 'l':\n",
    "        lead = perm(F_T, x[:, 1].reshape(-1, 1))\n",
    "        label_exo = [\"lemp\",\"lcap\"] + ['Labor lead']\n",
    "    if var == 'k':\n",
    "        lead = perm(F_T, x[:, 2].reshape(-1, 1))\n",
    "        label_exo = [\"lemp\",\"lcap\"] + ['Capital lead']\n",
    "\n",
    "    # Collect variables to test for exogeneity\n",
    "    x_exo = x[year != 1979]\n",
    "    x_exo = np.hstack((x_exo, lead))\n",
    "    y_exo = y[year != 1979]\n",
    "\n",
    "    # Within transform the data\n",
    "    Q_T = demeaning_matrix(t - 1)\n",
    "\n",
    "    yw_exo = perm(Q_T, y_exo)\n",
    "    xw_exo = perm(Q_T, x_exo)\n",
    "    xw_exo = xw_exo[:, 1:]\n",
    "    \n",
    "    n = y.size/t\n",
    "    # Estimate model\n",
    "    exo_test = estimate(\n",
    "        yw_exo, xw_exo, t=t - 1, transform='fe'\n",
    "    )\n",
    "\n",
    "    print_table(\n",
    "        (label_y, label_exo), \n",
    "        exo_test, title='Exogeneity test', floatfmt='.4f'\n",
    "    )\n",
    "exogeneity_test(X, y, T, year, var='k')"
   ]
  }
 ],
 "metadata": {
  "kernelspec": {
   "display_name": "Python 3",
   "language": "python",
   "name": "python3"
  },
  "language_info": {
   "codemirror_mode": {
    "name": "ipython",
    "version": 3
   },
   "file_extension": ".py",
   "mimetype": "text/x-python",
   "name": "python",
   "nbconvert_exporter": "python",
   "pygments_lexer": "ipython3",
   "version": "3.8.5"
  }
 },
 "nbformat": 4,
 "nbformat_minor": 4
}

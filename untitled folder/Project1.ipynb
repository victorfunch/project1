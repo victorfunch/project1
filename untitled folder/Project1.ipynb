{
 "cells": [
  {
   "cell_type": "markdown",
   "metadata": {},
   "source": [
    "# Project 1: Production Technology\n",
    "\n",
    "The dataset contains `N = 441` firms observed over `T = 12` years, 1968-1979. There variables are: \n",
    "* `lcap`: Log of capital stock, $k_{it}$ \n",
    "* `lemp`: log of employment, $\\ell_{it}$ \n",
    "* `ldsa`: log of deflated sales, $y_{it}$\n",
    "* `year`: the calendar year of the observation, `year` $ = 1968, ..., 1979$, \n",
    "* `firmid`: anonymized indicator variable for the firm, $i = 1, ..., N$, with $N=441$. "
   ]
  },
  {
   "cell_type": "code",
   "execution_count": 1,
   "metadata": {},
   "outputs": [],
   "source": [
    "import pandas as pd \n",
    "import numpy as np \n",
    "import seaborn as sns\n",
    "from numpy import linalg as la\n",
    "from tabulate import tabulate\n",
    "from scipy.stats import chi2\n",
    "import estimationModule as em"
   ]
  },
  {
   "cell_type": "markdown",
   "metadata": {},
   "source": [
    "# Data"
   ]
  },
  {
   "cell_type": "code",
   "execution_count": 2,
   "metadata": {},
   "outputs": [
    {
     "data": {
      "text/html": [
       "<div>\n",
       "<style scoped>\n",
       "    .dataframe tbody tr th:only-of-type {\n",
       "        vertical-align: middle;\n",
       "    }\n",
       "\n",
       "    .dataframe tbody tr th {\n",
       "        vertical-align: top;\n",
       "    }\n",
       "\n",
       "    .dataframe thead th {\n",
       "        text-align: right;\n",
       "    }\n",
       "</style>\n",
       "<table border=\"1\" class=\"dataframe\">\n",
       "  <thead>\n",
       "    <tr style=\"text-align: right;\">\n",
       "      <th></th>\n",
       "      <th>firmid</th>\n",
       "      <th>year</th>\n",
       "      <th>lcap</th>\n",
       "      <th>lemp</th>\n",
       "      <th>ldsa</th>\n",
       "    </tr>\n",
       "  </thead>\n",
       "  <tbody>\n",
       "    <tr>\n",
       "      <th>0</th>\n",
       "      <td>1</td>\n",
       "      <td>1968</td>\n",
       "      <td>0.998602</td>\n",
       "      <td>-0.242185</td>\n",
       "      <td>0.349053</td>\n",
       "    </tr>\n",
       "    <tr>\n",
       "      <th>1</th>\n",
       "      <td>1</td>\n",
       "      <td>1969</td>\n",
       "      <td>0.925214</td>\n",
       "      <td>-0.241278</td>\n",
       "      <td>0.312492</td>\n",
       "    </tr>\n",
       "    <tr>\n",
       "      <th>2</th>\n",
       "      <td>1</td>\n",
       "      <td>1970</td>\n",
       "      <td>0.879616</td>\n",
       "      <td>-0.265134</td>\n",
       "      <td>0.347566</td>\n",
       "    </tr>\n",
       "    <tr>\n",
       "      <th>3</th>\n",
       "      <td>1</td>\n",
       "      <td>1971</td>\n",
       "      <td>0.843098</td>\n",
       "      <td>-0.317875</td>\n",
       "      <td>0.234744</td>\n",
       "    </tr>\n",
       "    <tr>\n",
       "      <th>4</th>\n",
       "      <td>1</td>\n",
       "      <td>1972</td>\n",
       "      <td>0.823280</td>\n",
       "      <td>-0.372247</td>\n",
       "      <td>0.182199</td>\n",
       "    </tr>\n",
       "  </tbody>\n",
       "</table>\n",
       "</div>"
      ],
      "text/plain": [
       "   firmid  year      lcap      lemp      ldsa\n",
       "0       1  1968  0.998602 -0.242185  0.349053\n",
       "1       1  1969  0.925214 -0.241278  0.312492\n",
       "2       1  1970  0.879616 -0.265134  0.347566\n",
       "3       1  1971  0.843098 -0.317875  0.234744\n",
       "4       1  1972  0.823280 -0.372247  0.182199"
      ]
     },
     "execution_count": 2,
     "metadata": {},
     "output_type": "execute_result"
    }
   ],
   "source": [
    "dat = pd.read_csv('firms.csv')\n",
    "dat.head()"
   ]
  },
  {
   "cell_type": "code",
   "execution_count": 3,
   "metadata": {},
   "outputs": [
    {
     "name": "stdout",
     "output_type": "stream",
     "text": [
      "Data has N=441 and T=12\n"
     ]
    }
   ],
   "source": [
    "## Extract dimension\n",
    "N = dat.firmid.unique().size\n",
    "T = dat.year.unique().size\n",
    "assert dat.shape[0] == N*T, f'Error: data is not a balanced panel'\n",
    "print(f'Data has N={N} and T={T}')\n",
    "\n",
    "## From pandas columns to np arrays\n",
    "y = dat.ldsa.values.reshape((N*T,1))\n",
    "ones = np.ones((N*T,1))\n",
    "l = dat.lemp.values.reshape((N*T,1))\n",
    "k = dat.lcap.values.reshape((N*T,1))\n",
    "X = np.hstack([ones, l, k])"
   ]
  },
  {
   "cell_type": "markdown",
   "metadata": {},
   "source": [
    "# Estimation"
   ]
  },
  {
   "cell_type": "code",
   "execution_count": 4,
   "metadata": {},
   "outputs": [],
   "source": [
    "## Labels\n",
    "label_y=['log(sales)']\n",
    "label_x_constant=['constant', 'lemp', 'lcap']\n",
    "label_x=['lemp', 'lcap']\n",
    "\n",
    "labels = (label_y, label_x)\n",
    "labels_constant = (label_y, label_x_constant)"
   ]
  },
  {
   "cell_type": "code",
   "execution_count": 5,
   "metadata": {},
   "outputs": [],
   "source": [
    "## Estimate Pooled OLS\n",
    "pols_res = em.estimate(y, X, transform='', t=T, robust_se=True) "
   ]
  },
  {
   "cell_type": "code",
   "execution_count": 6,
   "metadata": {},
   "outputs": [
    {
     "name": "stdout",
     "output_type": "stream",
     "text": [
      "Pooled OLS results\n",
      "\n",
      "Dependent variable: ['log(sales)']\n",
      "\n",
      "            Beta      Se    t-values\n",
      "--------  ------  ------  ----------\n",
      "constant  0.0000  0.0161      0.0000\n",
      "lemp      0.6748  0.0366     18.4526\n",
      "lcap      0.3100  0.0324      9.5810\n",
      "R² = 0.914\n",
      "σ² = 0.131\n"
     ]
    }
   ],
   "source": [
    "## Print results\n",
    "em.print_table(labels=labels_constant, results=pols_res ,title=\"Pooled OLS results\\n\", floatfmt='.4f')"
   ]
  },
  {
   "cell_type": "markdown",
   "metadata": {},
   "source": [
    "# Fixed effects"
   ]
  },
  {
   "cell_type": "code",
   "execution_count": 7,
   "metadata": {},
   "outputs": [],
   "source": [
    "## Demean variables\n",
    "# Demeaning matrix\n",
    "def fe_matrix(t):\n",
    "    return np.eye(t)-np.tile(1/t, (t,t))\n",
    "\n",
    "Q_T = fe_matrix(T)\n",
    "\n",
    "# Perform demeaning\n",
    "x_fe = em.perm(Q_T, X)\n",
    "y_fe = em.perm(Q_T,y)\n",
    "\n",
    "# Matrix of regressors must be invertable\n",
    "assert la.matrix_rank(x_fe) > 0\n",
    "\n",
    "# Remove zero columns\n",
    "x_fe = em.remove_zero_cols(x_fe)"
   ]
  },
  {
   "cell_type": "code",
   "execution_count": 8,
   "metadata": {},
   "outputs": [],
   "source": [
    "## Estimate fixed effects\n",
    "fe_res = em.estimate(y_fe, x_fe, transform='fe', t=T, robust_se=True) "
   ]
  },
  {
   "cell_type": "code",
   "execution_count": 9,
   "metadata": {},
   "outputs": [
    {
     "name": "stdout",
     "output_type": "stream",
     "text": [
      "Fixed effect results\n",
      "\n",
      "Dependent variable: ['log(sales)']\n",
      "\n",
      "        Beta      Se    t-values\n",
      "----  ------  ------  ----------\n",
      "lemp  0.6942  0.0417     16.6674\n",
      "lcap  0.1546  0.0299      5.1630\n",
      "R² = 0.477\n",
      "σ² = 0.018\n"
     ]
    }
   ],
   "source": [
    "## Print results\n",
    "em.print_table(labels=labels, results=fe_res, title='Fixed effect results\\n', floatfmt='.4f')"
   ]
  },
  {
   "cell_type": "markdown",
   "metadata": {},
   "source": [
    "# First difference"
   ]
  },
  {
   "cell_type": "code",
   "execution_count": 10,
   "metadata": {},
   "outputs": [],
   "source": [
    "## First difference variables\n",
    "# First difference matrix\n",
    "def fd_matrix(t): \n",
    "    return np.eye(t-1,t,1)-np.eye(t-1,t)\n",
    "\n",
    "D_T = fd_matrix(T)\n",
    "\n",
    "# Perform the first differencing\n",
    "x_fd = em.perm(D_T, X)\n",
    "y_fd = em.perm(D_T, y)\n",
    "\n",
    "# Matrix of regressors must be invertable\n",
    "assert la.matrix_rank(x_fd) > 0\n",
    "\n",
    "# Remove zero columns\n",
    "x_fd = em.remove_zero_cols(x_fd)"
   ]
  },
  {
   "cell_type": "code",
   "execution_count": 11,
   "metadata": {},
   "outputs": [],
   "source": [
    "## Estimate first difference\n",
    "fd_res = em.estimate(y_fd, x_fd, transform='fd', t=T-1, robust_se=True) "
   ]
  },
  {
   "cell_type": "code",
   "execution_count": 12,
   "metadata": {},
   "outputs": [
    {
     "name": "stdout",
     "output_type": "stream",
     "text": [
      "First difference results\n",
      "\n",
      "Dependent variable: ['log(sales)']\n",
      "\n",
      "        Beta      Se    t-values\n",
      "----  ------  ------  ----------\n",
      "lemp  0.5487  0.0292     18.8191\n",
      "lcap  0.0630  0.0232      2.7097\n",
      "R² = 0.165\n",
      "σ² = 0.014\n"
     ]
    }
   ],
   "source": [
    "## Print results\n",
    "em.print_table(labels=labels, results=fd_res, title=\"First difference results\\n\", floatfmt='.4f')"
   ]
  },
  {
   "cell_type": "markdown",
   "metadata": {},
   "source": [
    "# RE effects"
   ]
  },
  {
   "cell_type": "code",
   "execution_count": 13,
   "metadata": {},
   "outputs": [],
   "source": [
    "## Between effects estimator\n",
    "# Demeaning matrix\n",
    "def be_matrix(t):\n",
    "    return np.tile(1/t, (t,t))\n",
    "\n",
    "P_T = be_matrix(T)\n",
    "\n",
    "# Deamean variables\n",
    "x_be = em.perm(P_T, X)\n",
    "y_be = em.perm(P_T, y)"
   ]
  },
  {
   "cell_type": "code",
   "execution_count": 14,
   "metadata": {},
   "outputs": [],
   "source": [
    "## Estimate between effects\n",
    "be_res = em.estimate(y_be, x_be, transform='be',t=T)"
   ]
  },
  {
   "cell_type": "code",
   "execution_count": 15,
   "metadata": {},
   "outputs": [
    {
     "name": "stdout",
     "output_type": "stream",
     "text": [
      "Between Estimator results\n",
      "\n",
      "Dependent variable: ['log(sales)']\n",
      "\n",
      "            Beta      Se    t-values\n",
      "--------  ------  ------  ----------\n",
      "constant  0.0000  0.0046      0.0000\n",
      "lemp      0.6672  0.0099     67.6130\n",
      "lcap      0.3188  0.0089     35.8720\n",
      "R² = 0.923\n",
      "σ² = 0.114\n"
     ]
    }
   ],
   "source": [
    "## Print results\n",
    "em.print_table(labels=labels_constant, results=be_res, title='Between Estimator results\\n', floatfmt='.4f')"
   ]
  },
  {
   "cell_type": "code",
   "execution_count": 16,
   "metadata": {},
   "outputs": [],
   "source": [
    "## Extract variances in order to create lambda_hat\n",
    "sigma_u = fe_res.get('sigma2')\n",
    "sigma_v = be_res.get('sigma2')\n",
    "sigma_c = sigma_v - (1/T*sigma_u)\n",
    "\n",
    "lambda_hat = 1 - np.sqrt(sigma_u/(sigma_u+T*sigma_c))"
   ]
  },
  {
   "cell_type": "code",
   "execution_count": 17,
   "metadata": {},
   "outputs": [],
   "source": [
    "## Compute the random effects tranformation matrix\n",
    "C_T = np.eye(T) - lambda_hat*P_T\n",
    "\n",
    "x_re = em.perm(C_T, X)\n",
    "y_re = em.perm(C_T, y)"
   ]
  },
  {
   "cell_type": "code",
   "execution_count": 18,
   "metadata": {},
   "outputs": [],
   "source": [
    "## Estimate random effects\n",
    "re_res = em.estimate(y_re, x_re, transform='re', t=T)"
   ]
  },
  {
   "cell_type": "code",
   "execution_count": 19,
   "metadata": {},
   "outputs": [
    {
     "name": "stdout",
     "output_type": "stream",
     "text": [
      "Random Effects results\n",
      "\n",
      "Dependent variable: ['log(sales)']\n",
      "\n",
      "            Beta      Se    t-values\n",
      "--------  ------  ------  ----------\n",
      "constant  0.0000  0.0162      0.0000\n",
      "lemp      0.7197  0.0131     54.8444\n",
      "lcap      0.1990  0.0117     17.0431\n",
      "R² = 0.643\n",
      "σ² = 0.018\n"
     ]
    }
   ],
   "source": [
    "## Print results\n",
    "em.print_table(labels=labels_constant, results=re_res, title='Random Effects results\\n', floatfmt='.4f')"
   ]
  },
  {
   "cell_type": "markdown",
   "metadata": {},
   "source": [
    "# Hausman Test"
   ]
  },
  {
   "cell_type": "markdown",
   "metadata": {},
   "source": [
    "The Hausman test is given by:\n",
    "$$H = \\left(\\hat{\\beta}_{RE} - \\hat{\\beta}_{FE}\\right)^{'} \\left(\\hat{Avar}(\\beta_{RE}) - \\hat{Avar}(\\beta_{FE})\\right)^{-1} \\left(\\hat{\\beta}_{RE} - \\hat{\\beta}_{FE}\\right)$$"
   ]
  },
  {
   "cell_type": "code",
   "execution_count": 31,
   "metadata": {},
   "outputs": [],
   "source": [
    "## Retrieve parameters from result dicts\n",
    "# Difference in beta parameters\n",
    "beta_diff = re_res.get('b_hat')[1:] - fe_res.get('b_hat')\n",
    "\n",
    "# Difference in covariance matrices\n",
    "avar_fe = fe_res.get('cov')\n",
    "avar_re = re_res.get('cov')\n",
    "cov_diff = avar_re[1:,1:] - avar_fe"
   ]
  },
  {
   "cell_type": "code",
   "execution_count": 32,
   "metadata": {},
   "outputs": [],
   "source": [
    "## The Hausman test value...\n",
    "H = beta_diff.T@la.inv(cov_diff)@beta_diff\n",
    "\n",
    "# ... and the corresponding p-value\n",
    "p_val = chi2.sf(H.item(), 4)"
   ]
  },
  {
   "cell_type": "code",
   "execution_count": 33,
   "metadata": {},
   "outputs": [
    {
     "name": "stdout",
     "output_type": "stream",
     "text": [
      "  b_fe    b_re    b_diff\n",
      "------  ------  --------\n",
      "0.6942  0.7197    0.0255\n",
      "0.1546  0.1990    0.0444\n",
      "\n",
      "The Hausman test statistic is: -6.17, with p-value: 1.00.\n"
     ]
    }
   ],
   "source": [
    "# Print results\n",
    "def print_h_test(fe_res, re_res, beta_diff, p_val):\n",
    "    table = []\n",
    "    for i in range(len(beta_diff)):\n",
    "        row = [\n",
    "            fe_res['b_hat'][i], re_res['b_hat'][1:][i], beta_diff[i]\n",
    "        ]\n",
    "        table.append(row)\n",
    "\n",
    "    print(tabulate(\n",
    "        table, headers=['b_fe', 'b_re', 'b_diff'], floatfmt='.4f'\n",
    "        ))\n",
    "    print(f'\\nThe Hausman test statistic is: {H.item():.2f}, with p-value: {p_val:.2f}.')\n",
    "\n",
    "print_h_test(fe_res, re_res, beta_diff, p_val)"
   ]
  },
  {
   "cell_type": "markdown",
   "metadata": {},
   "source": [
    "# we reject the null -> $c_{i}$ is correlated with $x_{i}$"
   ]
  },
  {
   "cell_type": "code",
   "execution_count": 23,
   "metadata": {},
   "outputs": [
    {
     "name": "stdout",
     "output_type": "stream",
     "text": [
      "                    POLS                    \n",
      "--------------------------------------------\n",
      "Beta_1 + Beta_2 = 1: W = 1.56 and p = 0.46\n",
      "--------------------------------------------\n",
      "\n",
      "                     FE                     \n",
      "--------------------------------------------\n",
      "Beta_1 + Beta_2 = 1: W = 19.40 and p = 0.00\n",
      "--------------------------------------------\n",
      "\n",
      "                     RE                     \n",
      "--------------------------------------------\n",
      "Beta_1 + Beta_2 = 1: W = 74.07 and p = 0.00\n",
      "--------------------------------------------\n",
      "\n",
      "                     FD                     \n",
      "--------------------------------------------\n",
      "Beta_1 + Beta_2 = 1: W = 150.03 and p = 0.00\n",
      "--------------------------------------------\n",
      "\n"
     ]
    }
   ],
   "source": [
    "def test_homogeneity(results):\n",
    "    betas = results['b_hat']\n",
    "    Avar = results['cov']\n",
    "    \n",
    "    if betas.shape[0] == 3:\n",
    "        R = np.array([[0,1,1]])\n",
    "        r = np.array([[1]])\n",
    "        \n",
    "    else:\n",
    "        R = np.array([[1,1]])\n",
    "        r = np.array([[1]])\n",
    "              \n",
    "    W = (R@betas-r).T@la.inv(R@Avar@R.T)@(R@betas-r)\n",
    "    p_val = chi2.sf(W.item(), 2)\n",
    "    return W.item(), p_val\n",
    "\n",
    "for result, name in zip([pols_res, fe_res, re_res, fd_res], ['POLS', 'FE', 'RE', 'FD']):\n",
    "    test = test_homogeneity(result)\n",
    "    print('{:^44s}'.format(name))\n",
    "    print('--------------------------------------------')\n",
    "    print(f'Beta_1 + Beta_2 = 1: W = {test[0]:.2f} and p = {test[1]:.2f}')\n",
    "    print('--------------------------------------------\\n')"
   ]
  },
  {
   "cell_type": "markdown",
   "metadata": {},
   "source": [
    "$$W \\equiv (\\boldsymbol{R} \\hat{\\beta} - \\boldsymbol{r})'[\\boldsymbol{R} Avar(\\hat{\\beta})R']^{-1}(\\boldsymbol{R} \\hat{\\beta} - \\boldsymbol{r})$$"
   ]
  },
  {
   "cell_type": "markdown",
   "metadata": {},
   "source": [
    "$$(QxK @ Kx1)' -> 1xQ$$"
   ]
  },
  {
   "cell_type": "markdown",
   "metadata": {},
   "source": [
    "$$Q x K @ K x K @ K x Q$$"
   ]
  },
  {
   "cell_type": "code",
   "execution_count": 24,
   "metadata": {},
   "outputs": [
    {
     "data": {
      "text/plain": [
       "(5292,)"
      ]
     },
     "execution_count": 24,
     "metadata": {},
     "output_type": "execute_result"
    }
   ],
   "source": [
    "year = np.array(dat.year, dtype=int)\n",
    "year.shape"
   ]
  },
  {
   "cell_type": "code",
   "execution_count": 25,
   "metadata": {},
   "outputs": [
    {
     "name": "stdout",
     "output_type": "stream",
     "text": [
      "Serial Correlation\n",
      "Dependent variable: OLS residual, eᵢₜ\n",
      "\n",
      "          Beta      Se    t-values\n",
      "-----  -------  ------  ----------\n",
      "eᵢₜ₋₁  -0.1987  0.0148    -13.4493\n",
      "R² = 0.039\n",
      "σ² = 0.014\n"
     ]
    }
   ],
   "source": [
    "reduced_year = year[year != 1968]\n",
    "\n",
    "def serial_corr(y, x, t, year):\n",
    "    b_hat = em.est_ols(y, x)\n",
    "    e = y - x@b_hat\n",
    "    \n",
    "    # Create a lag to estimate the error on.\n",
    "    L_T = np.eye(t, k=-1)\n",
    "    L_T = L_T[1:]\n",
    "\n",
    "    e_l = em.perm(L_T, e)\n",
    "\n",
    "    # We then need to remove the first obs for every person again.\n",
    "    e = e[year != 1969]\n",
    "\n",
    "    return em.estimate(e, e_l)\n",
    "\n",
    "corr_result = serial_corr(y_fd, x_fd, T-1, reduced_year)\n",
    "\n",
    "label_ye = 'OLS residual, e\\u1d62\\u209c'\n",
    "label_e = ['e\\u1d62\\u209c\\u208B\\u2081']\n",
    "em.print_table((label_ye, label_e), corr_result, title='Serial Correlation', floatfmt='.4f')"
   ]
  },
  {
   "cell_type": "code",
   "execution_count": 26,
   "metadata": {},
   "outputs": [],
   "source": [
    "def demeaning_matrix(t):\n",
    "    Q_T = np.eye(t) - np.tile(1/t, (t, t))\n",
    "    return Q_T"
   ]
  },
  {
   "cell_type": "code",
   "execution_count": 27,
   "metadata": {},
   "outputs": [
    {
     "name": "stdout",
     "output_type": "stream",
     "text": [
      "Exogeneity test for k\n",
      "Dependent variable: ['log(sales)']\n",
      "\n",
      "                Beta      Se    t-values\n",
      "------------  ------  ------  ----------\n",
      "lemp          0.6479  0.0162     39.9359\n",
      "lcap          0.0210  0.0231      0.9093\n",
      "Capital lead  0.1793  0.0258      6.9500\n",
      "R² = 0.474\n",
      "σ² = 0.016\n",
      "\n",
      "\n",
      "Exogeneity test for l\n",
      "Dependent variable: ['log(sales)']\n",
      "\n",
      "              Beta      Se    t-values\n",
      "----------  ------  ------  ----------\n",
      "lemp        0.5681  0.0231     24.5458\n",
      "lcap        0.1495  0.0134     11.1375\n",
      "Labor lead  0.1532  0.0225      6.8037\n",
      "R² = 0.473\n",
      "σ² = 0.016\n",
      "\n",
      "\n"
     ]
    }
   ],
   "source": [
    "def demeaning_matrix(t):\n",
    "    Q_T = np.eye(t) - np.tile(1/t, (t, t))\n",
    "    return Q_T\n",
    "\n",
    "def exogeneity_test(x, y, t, year, var):\n",
    "    # Create lead\n",
    "    F_T = np.eye(t, k=1)\n",
    "    F_T = F_T[:-1]\n",
    "\n",
    "    # Choose var\n",
    "    if var == 'l':\n",
    "        lead = em.perm(F_T, x[:, 1].reshape(-1, 1))\n",
    "        label_exo = [\"lemp\",\"lcap\"] + ['Labor lead']\n",
    "    if var == 'k':\n",
    "        lead = em.perm(F_T, x[:, 2].reshape(-1, 1))\n",
    "        label_exo = [\"lemp\",\"lcap\"] + ['Capital lead']\n",
    "\n",
    "    # Collect variables to test for exogeneity\n",
    "    x_exo = x[year != 1979]\n",
    "    x_exo = np.hstack((x_exo, lead))\n",
    "    y_exo = y[year != 1979]\n",
    "\n",
    "    # Within transform the data\n",
    "    Q_T = demeaning_matrix(t - 1)\n",
    "\n",
    "    yw_exo = em.perm(Q_T, y_exo)\n",
    "    xw_exo = em.perm(Q_T, x_exo)\n",
    "    xw_exo = xw_exo[:, 1:]\n",
    "    \n",
    "    n = y.size/t\n",
    "    # Estimate model\n",
    "    exo_test = em.estimate(yw_exo, xw_exo, t=t - 1, transform='fe')\n",
    "\n",
    "    em.print_table((label_y, label_exo), exo_test, title=f'Exogeneity test for {var}', floatfmt='.4f')\n",
    "    print('\\n')\n",
    "\n",
    "for var in ['k', 'l']:\n",
    "    exogeneity_test(X, y, T, year, var=var)"
   ]
  }
 ],
 "metadata": {
  "kernelspec": {
   "display_name": "Python 3",
   "language": "python",
   "name": "python3"
  },
  "language_info": {
   "codemirror_mode": {
    "name": "ipython",
    "version": 3
   },
   "file_extension": ".py",
   "mimetype": "text/x-python",
   "name": "python",
   "nbconvert_exporter": "python",
   "pygments_lexer": "ipython3",
   "version": "3.8.5"
  }
 },
 "nbformat": 4,
 "nbformat_minor": 4
}

{
 "cells": [
  {
   "cell_type": "code",
   "execution_count": 10,
   "id": "cheap-postage",
   "metadata": {},
   "outputs": [],
   "source": [
    "import numpy as np\n",
    "import pandas as pd\n",
    "from sklearn.linear_model import Lasso\n",
    "from sklearn.preprocessing import StandardScaler\n",
    "from sklearn.preprocessing import PolynomialFeatures\n",
    "from sklearn.pipeline import Pipeline\n",
    "from scipy.stats import norm\n",
    "import statsmodels.formula.api as smf\n",
    "import matplotlib.pyplot as plt\n",
    "from numpy.matlib import repmat\n",
    "import estimationModule as mp"
   ]
  },
  {
   "cell_type": "code",
   "execution_count": 33,
   "id": "micro-undergraduate",
   "metadata": {},
   "outputs": [],
   "source": [
    "dat = pd.read_csv('growth.csv')\n",
    "lbldf = pd.read_csv('labels.csv', index_col='variable')\n",
    "lbl_all = lbldf.label.to_dict()\n",
    "\n",
    "vv_institutions = ['marketref', 'dem', 'demCGV', 'demBMR', 'demreg'] \n",
    "vv_geography = [\n",
    "        'tropicar','distr', 'distcr', 'distc','suitavg','temp', 'suitgini', 'elevavg', 'elevstd',\n",
    "        'kgatr', 'precip', 'area', 'abslat', 'cenlong', 'area_ar', 'rough','landlock', \n",
    "        'africa',  'asia', 'oceania', 'americas' # 'europe' is the reference\n",
    "]\n",
    "vv_geneticdiversity = ['pdiv', 'pdiv_aa', 'pdivhmi', 'pdivhmi_aa']\n",
    "vv_historical = ['pd1000', 'pd1500', 'pop1000', 'pop1500', 'ln_yst'] # these are often missing: ['pd1', 'pop1']\n",
    "vv_religion = ['pprotest', 'pcatholic', 'pmuslim']\n",
    "vv_danger = ['yellow', 'malfal',  'uvdamage']\n",
    "vv_resources = ['oilres', 'goldm', 'iron', 'silv', 'zinc']\n",
    "vv_educ = ['ls_bl', 'lh_bl'] # secondary, tertiary: we exclude 'lp_bl' (primary) to avoid rank failure \n",
    "\n",
    "vv_all = {'institutions': vv_institutions, \n",
    "          'geography': vv_geography, \n",
    "          'geneticdiversity': vv_geneticdiversity,\n",
    "          'historical': vv_historical,\n",
    "          'religion': vv_religion,\n",
    "          'danger':vv_danger, \n",
    "          'resources':vv_resources\n",
    "         }\n",
    "list_of_lists = vv_all.values()\n",
    "vv_all['all'] = [v for sublist in list_of_lists for v in sublist]\n",
    "\n",
    "dat['constant'] = np.ones((dat.shape[0],))\n",
    "dat['pop_avg'] = (dat.population_initial + dat.population_now)/2"
   ]
  },
  {
   "cell_type": "code",
   "execution_count": 42,
   "id": "dynamic-continent",
   "metadata": {},
   "outputs": [],
   "source": [
    "selected_barro = [\n",
    "   'investment_rate', 'pop_growth', 'pop_avg', 'lp_bl', 'lh_bl', 'africa', 'americas', 'asia'\n",
    "    , 'lgdp_initial'\n",
    "    , 'imr95'\n",
    "]\n",
    "\n",
    "selected_anrr = [\n",
    "    'dem', 'marketref'\n",
    "]\n",
    "\n",
    "selected_ar = [\n",
    "    'landlock', 'yellow', 'oilres', 'goldm', 'silv', 'zinc', 'iron'\n",
    "    #, 'logem4'\n",
    "]\n",
    "\n",
    "selected_ag = [\n",
    "    'pdiv', 'malfal', 'uvdamage', 'pop1', 'suitavg'\n",
    "]"
   ]
  },
  {
   "cell_type": "code",
   "execution_count": 43,
   "id": "according-arkansas",
   "metadata": {},
   "outputs": [
    {
     "name": "stdout",
     "output_type": "stream",
     "text": [
      "(45, 9)\n"
     ]
    }
   ],
   "source": [
    "# Create selection and delete missing\n",
    "selection = selected_barro #+ selected_anrr + selected_ar + selected_ag\n",
    "all_vars = ['gdp_growth'] + selection\n",
    "I = dat[all_vars].notnull().all(1)\n",
    "\n",
    "# Subset data\n",
    "Z = dat.loc[I, selection]\n",
    "d = Z.lgdp_initial.values.reshape((-1,1))\n",
    "Z = Z.drop(columns=['lgdp_initial'])\n",
    "y = dat.loc[I,'gdp_growth'].values.reshape((-1,1)) * 100.\n",
    "\n",
    "# Must be full rank\n",
    "K = Z.shape[1]\n",
    "assert np.linalg.matrix_rank(Z) == K, f'Z does not have full rank'\n",
    "print(Z.shape)"
   ]
  },
  {
   "cell_type": "code",
   "execution_count": 44,
   "id": "egyptian-messaging",
   "metadata": {},
   "outputs": [],
   "source": [
    "def std_var(d, Z, polyfeat):\n",
    "    if polyfeat[0] == False:\n",
    "        d_ = StandardScaler().fit_transform(d)\n",
    "        Z_ = StandardScaler().fit_transform(Z)\n",
    "        d_Z = np.column_stack((d_, Z_))\n",
    "        return d_, Z_, d_Z, np.nan\n",
    "    \n",
    "    else:\n",
    "        degree = polyfeat[1]\n",
    "        \n",
    "        d_ = StandardScaler().fit_transform(d)\n",
    "        \n",
    "        Z_ = PolynomialFeatures(degree=degree, include_bias=True).fit_transform(Z)\n",
    "        Z_ = StandardScaler().fit_transform(Z_)\n",
    "\n",
    "        d_poly = PolynomialFeatures(degree=degree, include_bias=True).fit_transform(d)\n",
    "        d_poly = StandardScaler().fit_transform(d_poly)\n",
    "\n",
    "        d_Z = np.column_stack((d_poly, Z_))\n",
    "        return d_, Z_, d_Z, d_poly\n",
    "    \n",
    "def brt(zz, yy, a=.05, c=1.1):\n",
    "    n, p = zz.shape\n",
    "    sigma = np.std(yy)\n",
    "    brt_rule = (c*sigma/np.sqrt(n)) * norm.ppf(1-(a/(2*p))) * 1\n",
    "    print(f'\\u03BB BRT = {brt_rule:.4f}')\n",
    "    return brt_rule\n",
    "\n",
    "def bcch(zz, yy, a=.05, c=1.1):\n",
    "    n, p = zz.shape\n",
    "\n",
    "    yZscale = (np.max((zz.T ** 2) @ ((y-np.mean(yy)) ** 2) / n)) ** 0.5\n",
    "    lambda_pilot = c * norm.ppf(1-a/(2*p)) * yZscale/np.sqrt(n)\n",
    "\n",
    "    pred = Lasso(alpha=lambda_pilot).fit(zz,yy).predict(zz)\n",
    "    \n",
    "    res = y - pred\n",
    "    resXscale = (np.max((zz.T ** 2) @ (res ** 2) / n)) ** 0.5\n",
    "    bcch_rule = c*norm.ppf(1-a/(2*p))*resXscale/np.sqrt(n)\n",
    "    print(f'\\u03BB BCCH = {bcch_rule:.4f}')\n",
    "    return bcch_rule\n",
    "\n",
    "def lasso_with_rule(zz, yy, rule):\n",
    "    if rule == 'brt':\n",
    "        l_brt = Lasso(alpha=brt(zz, yy), fit_intercept=True, max_iter=100000)\n",
    "        l_brt = l_brt.fit(zz,yy)\n",
    "        res = yy - l_brt.predict(zz).reshape((-1,1))\n",
    "        return res, l_brt.coef_\n",
    "    \n",
    "    if rule == 'bcch':\n",
    "        l_bcch = Lasso(alpha=bcch(zz, yy), fit_intercept=True, max_iter=100000)\n",
    "        l_bcch = l_bcch.fit(zz,yy)\n",
    "        res = yy - l_bcch.predict(zz).reshape((-1,1))\n",
    "        return res, l_bcch.coef_\n",
    "\n",
    "def ppol(eps, nu):\n",
    "    resyzdz = eps * nu\n",
    "    resdz2 = nu ** 2\n",
    "    sumresdz2 = np.sum(resdz2)\n",
    "    alpha = np.sum(resyzdz)/sumresdz2 # partialling-out Lasso estimate\n",
    "    print(f'\\u03B1\\u0302 estimate = {alpha:.4f}')\n",
    "    return alpha\n",
    "\n",
    "def sigma2_(eps, nu, n):\n",
    "    resyzdz = eps * nu\n",
    "    resdz2 = nu ** 2\n",
    "    sumresdz2 = np.sum(resdz2)\n",
    "    sigma2 = n * np.sum(resyzdz ** 2)/(sumresdz2 ** 2)\n",
    "    return sigma2\n",
    "\n",
    "def confidence_intervals(sigma2, alpha, n, signficance=.05):\n",
    "    s = np.abs(1-signficance/2)\n",
    "    sigma = np.sqrt(sigma2/n)\n",
    "    ci_l = alpha - norm.ppf(s)*(sigma)\n",
    "    ci_h = alpha + norm.ppf(s)*(sigma)\n",
    "    print(f'Lower bound: {ci_l:.4f} \\nUpper bound: {ci_h:.4f}')\n",
    "    return ci_l, ci_h"
   ]
  },
  {
   "cell_type": "markdown",
   "id": "developing-essay",
   "metadata": {},
   "source": [
    "# OLS"
   ]
  },
  {
   "cell_type": "code",
   "execution_count": 60,
   "id": "operating-oriental",
   "metadata": {},
   "outputs": [
    {
     "name": "stdout",
     "output_type": "stream",
     "text": [
      "Estimate: -0.7464906377706644 \n",
      "SE: 0.22617650742526524\n"
     ]
    }
   ],
   "source": [
    "X = np.column_stack((d,Z))\n",
    "X = np.column_stack((np.ones((Z.shape[0],)), X))\n",
    "res = mp.estimate(y, X, robust_se=True)\n",
    "\n",
    "print('Estimate:',res['b_hat'][1].item(),'\\nSE:', res['se'][1].item())"
   ]
  },
  {
   "cell_type": "markdown",
   "id": "subjective-sociology",
   "metadata": {},
   "source": [
    "# Post Partialling Out Lasso with BRT"
   ]
  },
  {
   "cell_type": "code",
   "execution_count": 61,
   "id": "moral-kernel",
   "metadata": {},
   "outputs": [
    {
     "name": "stdout",
     "output_type": "stream",
     "text": [
      "λ BRT = 0.6075\n",
      "λ BRT = 0.5456\n",
      "α̂ estimate = -0.2332\n",
      "Lower bound: -0.5689 \n",
      "Upper bound: 0.1026\n"
     ]
    }
   ],
   "source": [
    "# 0. Data\n",
    "d_std, Z_std, d_Z_std, d_poly = std_var(d, Z, [True, 2])\n",
    "\n",
    "# 1. Lasso Y using Z alone and save residuals\n",
    "epsilon, coef1 = lasso_with_rule(Z_std, y, rule='brt')\n",
    "\n",
    "# 2. Lasso D using Z and save residuals\n",
    "nu, coef2 = lasso_with_rule(Z_std, d, rule='brt')\n",
    "\n",
    "# 3. Calculate alpha_0: LS first rest using second res\n",
    "alpha_ppol = ppol(epsilon, nu)\n",
    "\n",
    "# 4. Calculate the variance\n",
    "N = Z.shape[0]\n",
    "sigma2 = sigma2_(epsilon, nu, N)\n",
    "\n",
    "# 5. Calculate confidene intervals\n",
    "ci_l, ci_h = confidence_intervals(sigma2, alpha_ppol, N, signficance=.05)"
   ]
  },
  {
   "cell_type": "markdown",
   "id": "developmental-breed",
   "metadata": {},
   "source": [
    "# Post Partialling Out Lasso with BCCH"
   ]
  },
  {
   "cell_type": "code",
   "execution_count": 62,
   "id": "nearby-thesaurus",
   "metadata": {},
   "outputs": [
    {
     "name": "stdout",
     "output_type": "stream",
     "text": [
      "λ BCCH = 1.1237\n",
      "λ BCCH = 3.8769\n",
      "α̂ estimate = -0.1585\n",
      "Lower bound: -0.4338 \n",
      "Upper bound: 0.1167\n"
     ]
    }
   ],
   "source": [
    "# 0. Data\n",
    "d_std, Z_std, d_Z_std, d_poly = std_var(d, Z, [True, 2])\n",
    "\n",
    "# 1. Lasso Y using Z alone and save residuals\n",
    "epsilon, coef1 = lasso_with_rule(Z_std, y, rule='bcch')\n",
    "\n",
    "# 2. Lasso D using Z and save residuals\n",
    "nu, coef2 = lasso_with_rule(Z_std, d, rule='bcch')\n",
    "\n",
    "# 3. Calculate alpha_0: LS first rest using second res\n",
    "alpha_ppol = ppol(epsilon, nu)\n",
    "\n",
    "# 4. Calculate the variance\n",
    "N = Z.shape[0]\n",
    "sigma2 = sigma2_(epsilon, nu, N)\n",
    "\n",
    "# 5. Calculate confidene intervals\n",
    "ci_l, ci_h = confidence_intervals(sigma2, alpha_ppol, N, signficance=.05)"
   ]
  },
  {
   "cell_type": "code",
   "execution_count": 8,
   "id": "inner-definition",
   "metadata": {},
   "outputs": [
    {
     "ename": "NameError",
     "evalue": "name 'stop' is not defined",
     "output_type": "error",
     "traceback": [
      "\u001b[0;31m---------------------------------------------------------------------------\u001b[0m",
      "\u001b[0;31mNameError\u001b[0m                                 Traceback (most recent call last)",
      "\u001b[0;32m<ipython-input-8-4f76a9dad686>\u001b[0m in \u001b[0;36m<module>\u001b[0;34m\u001b[0m\n\u001b[0;32m----> 1\u001b[0;31m \u001b[0mstop\u001b[0m\u001b[0;34m\u001b[0m\u001b[0;34m\u001b[0m\u001b[0m\n\u001b[0m",
      "\u001b[0;31mNameError\u001b[0m: name 'stop' is not defined"
     ]
    }
   ],
   "source": [
    "stop"
   ]
  },
  {
   "cell_type": "markdown",
   "id": "indie-reality",
   "metadata": {},
   "source": [
    "# Post Double Lasso with BRT"
   ]
  },
  {
   "cell_type": "code",
   "execution_count": null,
   "id": "gentle-backup",
   "metadata": {},
   "outputs": [],
   "source": [
    "# 0. Data\n",
    "d_std, Z_std, d_Z_std, d_poly = std_var(d, Z, [True, 2])\n",
    "\n",
    "# 1. Lasso Y using D and Z\n",
    "epsilon, coef1 = lasso_with_rule(d_Z_std, y, rule='brt')\n",
    "\n",
    "# 2. Lasso D using Z\n",
    "nu, coef2 = lasso_with_rule(Z_std, d, rule='brt')\n",
    "\n",
    "# 3. Calculate alpha^PDL using the analogy principle\n",
    "gamma = coef1[2:]\n",
    "phi = coef2\n",
    "\n",
    "# Calculate alpha\n",
    "alpha_pdl = ((d - Z_std@phi)@(y-Z_std@gamma)) / ((d - Z_std@phi)@d)\n",
    "#print(f'\\u03B1\\u0302 = {alpha_pdl:.4f}')"
   ]
  },
  {
   "cell_type": "code",
   "execution_count": null,
   "id": "lasting-qatar",
   "metadata": {},
   "outputs": [],
   "source": [
    "alpha_pdl.shape"
   ]
  },
  {
   "cell_type": "code",
   "execution_count": null,
   "id": "corrected-ticket",
   "metadata": {},
   "outputs": [],
   "source": [
    "def ppol(eps, nu):\n",
    "    resyzdz = eps * nu\n",
    "    resdz2 = nu ** 2\n",
    "    sumresdz2 = np.sum(resdz2)\n",
    "    alpha = np.sum(resyzdz)/sumresdz2 # partialling-out Lasso estimate\n",
    "    print(f'\\u03B1\\u0302 estimate = {alpha:.4f}')\n",
    "    return alpha"
   ]
  },
  {
   "cell_type": "code",
   "execution_count": null,
   "id": "connected-transcription",
   "metadata": {},
   "outputs": [],
   "source": [
    "X=housing.drop([\"median_house_value\",\"ocean_proximity\"],axis=1) # collecting regressors\n",
    "lambdayx=lambdaBRT(X,y) # BRT penalty\n",
    "Xn=standardize(X) # standardize\n",
    "lassoyx=Lasso(alpha=lambdayx).fit(Xn,y)\n",
    "resyznod=y-lassoyx.predict(Xn)+lassoyx.coef_[X.columns.get_loc(\"median_income\")]*Xn.median_income\n",
    "# Note: We remove the part of the prediction concerning median_income\n",
    "resdzresyznod=resdz*resyznod\n",
    "alpha_DL=np.sum(resdzresyznod)/np.sum(resdz*d)\n",
    "alpha_DL.astype(int) # Double Lasso estimate\n",
    "resyx=y-lassoyx.predict(Xn) # residuals from \"long\" Lasso\n",
    "resyxresdz=resyx*resdz\n",
    "sigma2_DL=n*np.sum(resyxresdz ** 2)/(sumresdz2 ** 2)\n",
    "# Note how the construction of the variance estimate does not mirror the coefficient estimate.\n",
    "se_DL=np.sqrt(sigma2_DL/n)\n",
    "CI95_DL=np.array([alpha_DL-quant*se_DL,alpha_DL+quant*se_DL]) # 95 pct. CI\n",
    "print((CI95_DL).astype(int))"
   ]
  }
 ],
 "metadata": {
  "kernelspec": {
   "display_name": "Python 3.7.4 64-bit ('base': conda)",
   "language": "python",
   "name": "python37464bitbasecondad9c277c8350545daa19bbf402865ecf7"
  },
  "language_info": {
   "codemirror_mode": {
    "name": "ipython",
    "version": 3
   },
   "file_extension": ".py",
   "mimetype": "text/x-python",
   "name": "python",
   "nbconvert_exporter": "python",
   "pygments_lexer": "ipython3",
   "version": "3.8.5"
  }
 },
 "nbformat": 4,
 "nbformat_minor": 5
}
